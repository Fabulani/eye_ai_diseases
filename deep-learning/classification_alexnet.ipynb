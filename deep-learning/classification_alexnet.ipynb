{
 "cells": [
  {
   "cell_type": "code",
   "execution_count": 1,
   "metadata": {},
   "outputs": [],
   "source": [
    "import sys\n",
    "sys.path.insert(0, '..')\n",
    "\n",
    "import torch.nn as nn\n",
    "from torch.utils.data import DataLoader\n",
    "from utils.eye_dataset import *\n",
    "from eye_classifier import *\n",
    "import torchvision.transforms as transforms\n",
    "import torchvision.models as models"
   ]
  },
  {
   "cell_type": "markdown",
   "metadata": {},
   "source": [
    "### The Training Dataset\n",
    "\n",
    "We use the utility class EyeImageDataset() to load the training dataset based on the metadata CSV file and\n",
    "the target image folder\n",
    "\n",
    "The training images will be loaded as needed due to memory constraints.\n",
    "\n",
    "Since we're using the ALEXNET network, we need to resize our images to 224x224, so we apply some transforms on our dataset.\n",
    "\n",
    "We also need to proper normalize the dataset accordingly to the ALEXNET input expectations."
   ]
  },
  {
   "cell_type": "code",
   "execution_count": 2,
   "metadata": {},
   "outputs": [
    {
     "name": "stdout",
     "output_type": "stream",
     "text": [
      "reading input dataset\n"
     ]
    }
   ],
   "source": [
    "base_dir = \"../../data\"\n",
    "\n",
    "image_dir_training = f\"{base_dir}/ODIR-5K/training\"\n",
    "#image_dir_training = f\"{base_dir}/preprocessed_images\"\n",
    "image_dir_testing = f\"{base_dir}/ODIR-5K/testing\"\n",
    "csv_file = f'{base_dir}/ODIR-5K/data.csv'\n",
    "\n",
    "print ('reading input dataset')\n",
    "input_size = 224\n",
    "\n",
    "apply_transforms = transforms.Compose([\n",
    "    transforms.Resize(size=input_size),\n",
    "    transforms.CenterCrop(size=input_size),\n",
    "    transforms.ToTensor(),\n",
    "    transforms.Normalize([0.485, 0.456, 0.406], [0.229, 0.224, 0.225])\n",
    "])\n",
    "\n",
    "ds = EyeImageDataset(root=image_dir_training, data_info_csv_file=csv_file, transform=apply_transforms)"
   ]
  },
  {
   "cell_type": "markdown",
   "metadata": {},
   "source": [
    "### Building the model\n",
    "\n",
    "To build the model, we use the utility superclass EyeClassifier. \n",
    "\n",
    "We create a subclass named ResnetEyeClassifier and then we feed it with the intended model on its __init__ constructor.\n",
    "\n",
    "Here we're building a resnet18 as the first layer (in fact resnet18 is comprised of many layers), followed by three linear fully connected layers\n",
    "for image classification\n",
    "\n",
    "The last layer will not have a transfer function because we opted to use CrossEntropyLoss as the loss function. \n",
    "\n",
    "You can change the loss function by using set_loss_function() if you wish to\n"
   ]
  },
  {
   "cell_type": "code",
   "execution_count": 3,
   "metadata": {},
   "outputs": [
    {
     "name": "stdout",
     "output_type": "stream",
     "text": [
      "ResnetEyeClassifier(\n",
      "  (layer 1): AlexNet(\n",
      "    (features): Sequential(\n",
      "      (0): Conv2d(3, 64, kernel_size=(11, 11), stride=(4, 4), padding=(2, 2))\n",
      "      (1): ReLU(inplace=True)\n",
      "      (2): MaxPool2d(kernel_size=3, stride=2, padding=0, dilation=1, ceil_mode=False)\n",
      "      (3): Conv2d(64, 192, kernel_size=(5, 5), stride=(1, 1), padding=(2, 2))\n",
      "      (4): ReLU(inplace=True)\n",
      "      (5): MaxPool2d(kernel_size=3, stride=2, padding=0, dilation=1, ceil_mode=False)\n",
      "      (6): Conv2d(192, 384, kernel_size=(3, 3), stride=(1, 1), padding=(1, 1))\n",
      "      (7): ReLU(inplace=True)\n",
      "      (8): Conv2d(384, 256, kernel_size=(3, 3), stride=(1, 1), padding=(1, 1))\n",
      "      (9): ReLU(inplace=True)\n",
      "      (10): Conv2d(256, 256, kernel_size=(3, 3), stride=(1, 1), padding=(1, 1))\n",
      "      (11): ReLU(inplace=True)\n",
      "      (12): MaxPool2d(kernel_size=3, stride=2, padding=0, dilation=1, ceil_mode=False)\n",
      "    )\n",
      "    (avgpool): AdaptiveAvgPool2d(output_size=(6, 6))\n",
      "    (classifier): Sequential(\n",
      "      (0): Dropout(p=0.5, inplace=False)\n",
      "      (1): Linear(in_features=9216, out_features=4096, bias=True)\n",
      "      (2): ReLU(inplace=True)\n",
      "      (3): Dropout(p=0.5, inplace=False)\n",
      "      (4): Linear(in_features=4096, out_features=4096, bias=True)\n",
      "      (5): ReLU(inplace=True)\n",
      "      (6): Linear(in_features=4096, out_features=8, bias=True)\n",
      "    )\n",
      "  )\n",
      ")\n"
     ]
    }
   ],
   "source": [
    "\n",
    "class ResnetEyeClassifier(EyeClassifier):\n",
    "    def __init__(self, num_classes: int) -> None:\n",
    "        super(ResnetEyeClassifier, self).__init__(model=[\n",
    "\n",
    "            (models.AlexNet(num_classes=num_classes), TransferFunction.NotApplicable),\n",
    "        ])\n",
    "\n",
    "nn = ResnetEyeClassifier(num_classes=len(ds.classes))\n",
    "print(nn)"
   ]
  },
  {
   "cell_type": "markdown",
   "metadata": {},
   "source": [
    "### Training the model\n",
    "\n",
    "Training the model is very easy. All we have to do is to call train_model() passing the EyeImageDataset object. \n",
    "\n",
    "If you're having I/O constraints, you can use the set_buffer_size(n) method to cache n images in memory. Be aware that you cant use it\n",
    "along with shuffle, because the cache will be constantly invalidated, unless you have a lot of memory and cache all of the images."
   ]
  },
  {
   "cell_type": "code",
   "execution_count": 4,
   "metadata": {},
   "outputs": [
    {
     "name": "stdout",
     "output_type": "stream",
     "text": [
      "training (1%) epoch 1/100, loss = 2.0758\n",
      "training (2%) epoch 2/100, loss = 2.0002\n",
      "training (3%) epoch 3/100, loss = 1.6103\n",
      "training (4%) epoch 4/100, loss = 1.6359\n",
      "training (5%) epoch 5/100, loss = 1.5097\n",
      "training (6%) epoch 6/100, loss = 1.1799\n",
      "training (7%) epoch 7/100, loss = 1.5411\n",
      "training (8%) epoch 8/100, loss = 0.8500\n",
      "training (9%) epoch 9/100, loss = 1.4629\n",
      "training (10%) epoch 10/100, loss = 1.1718\n",
      "training (11%) epoch 11/100, loss = 1.6333\n",
      "training (12%) epoch 12/100, loss = 1.0791\n",
      "training (13%) epoch 13/100, loss = 2.0819\n",
      "training (14%) epoch 14/100, loss = 0.9682\n",
      "training (15%) epoch 15/100, loss = 2.3420\n",
      "training (16%) epoch 16/100, loss = 1.0062\n",
      "training (17%) epoch 17/100, loss = 0.9314\n",
      "training (18%) epoch 18/100, loss = 1.7139\n",
      "training (19%) epoch 19/100, loss = 0.7175\n",
      "training (20%) epoch 20/100, loss = 1.6322\n",
      "training (21%) epoch 21/100, loss = 1.1615\n",
      "training (22%) epoch 22/100, loss = 1.0109\n",
      "training (23%) epoch 23/100, loss = 1.9683\n",
      "training (24%) epoch 24/100, loss = 0.6762\n",
      "training (25%) epoch 25/100, loss = 0.7408\n",
      "training (26%) epoch 26/100, loss = 2.1288\n",
      "training (27%) epoch 27/100, loss = 1.0822\n",
      "training (28%) epoch 28/100, loss = 0.8238\n",
      "training (29%) epoch 29/100, loss = 0.6323\n",
      "training (30%) epoch 30/100, loss = 0.6313\n",
      "training (31%) epoch 31/100, loss = 0.9768\n",
      "training (32%) epoch 32/100, loss = 0.2550\n",
      "training (33%) epoch 33/100, loss = 0.5026\n",
      "training (34%) epoch 34/100, loss = 0.4780\n",
      "training (35%) epoch 35/100, loss = 1.6112\n",
      "training (36%) epoch 36/100, loss = 0.3115\n",
      "training (37%) epoch 37/100, loss = 1.6711\n",
      "training (38%) epoch 38/100, loss = 0.5077\n",
      "training (39%) epoch 39/100, loss = 0.2574\n",
      "training (40%) epoch 40/100, loss = 0.6396\n",
      "training (41%) epoch 41/100, loss = 1.0659\n",
      "training (42%) epoch 42/100, loss = 1.0924\n",
      "training (43%) epoch 43/100, loss = 0.9988\n",
      "training (44%) epoch 44/100, loss = 1.4928\n",
      "training (45%) epoch 45/100, loss = 1.2041\n",
      "training (46%) epoch 46/100, loss = 0.6838\n",
      "training (47%) epoch 47/100, loss = 0.7672\n",
      "training (48%) epoch 48/100, loss = 0.2976\n",
      "training (49%) epoch 49/100, loss = 0.5644\n",
      "training (50%) epoch 50/100, loss = 0.2805\n",
      "training (51%) epoch 51/100, loss = 0.6134\n",
      "training (52%) epoch 52/100, loss = 0.5597\n",
      "training (53%) epoch 53/100, loss = 0.3153\n",
      "training (54%) epoch 54/100, loss = 0.5149\n",
      "training (55%) epoch 55/100, loss = 0.4573\n",
      "training (56%) epoch 56/100, loss = 0.5246\n",
      "training (57%) epoch 57/100, loss = 0.4674\n",
      "training (58%) epoch 58/100, loss = 0.2025\n",
      "training (59%) epoch 59/100, loss = 0.9284\n",
      "training (60%) epoch 60/100, loss = 0.2667\n",
      "training (61%) epoch 61/100, loss = 0.1036\n",
      "training (62%) epoch 62/100, loss = 0.4431\n",
      "training (63%) epoch 63/100, loss = 0.0675\n",
      "training (64%) epoch 64/100, loss = 0.7357\n",
      "training (65%) epoch 65/100, loss = 0.0650\n",
      "training (66%) epoch 66/100, loss = 0.1073\n",
      "training (67%) epoch 67/100, loss = 0.5119\n",
      "training (68%) epoch 68/100, loss = 0.4471\n",
      "training (69%) epoch 69/100, loss = 0.0030\n",
      "training (70%) epoch 70/100, loss = 0.2407\n",
      "training (71%) epoch 71/100, loss = 1.9370\n",
      "training (72%) epoch 72/100, loss = 0.0013\n",
      "training (73%) epoch 73/100, loss = 0.4760\n",
      "training (74%) epoch 74/100, loss = 0.0867\n",
      "training (75%) epoch 75/100, loss = 0.0731\n",
      "training (76%) epoch 76/100, loss = 0.3499\n",
      "training (77%) epoch 77/100, loss = 0.7060\n",
      "training (78%) epoch 78/100, loss = 0.5345\n",
      "training (79%) epoch 79/100, loss = 0.6273\n",
      "training (80%) epoch 80/100, loss = 1.0899\n",
      "training (81%) epoch 81/100, loss = 0.8746\n",
      "training (82%) epoch 82/100, loss = 0.0865\n",
      "training (83%) epoch 83/100, loss = 1.2677\n",
      "training (84%) epoch 84/100, loss = 0.4200\n",
      "training (85%) epoch 85/100, loss = 0.0948\n"
     ]
    }
   ],
   "source": [
    "#ds.set_buffer_size(1024)\n",
    "nn.train_model(ds, shuffle=True)\n"
   ]
  },
  {
   "cell_type": "markdown",
   "metadata": {},
   "source": [
    "### Saving some weights\n",
    "\n",
    "You can use the util methods save/load weights to save or load individual model layer weights or the whole model weights,\n",
    "so you can try different kinds of training.\n",
    "\n",
    "You can also freeze/unfreeze layers, prevent them from being trained, by using the freeze_layer() unfreeze_layer() methods."
   ]
  },
  {
   "cell_type": "code",
   "execution_count": null,
   "metadata": {},
   "outputs": [],
   "source": [
    "\n",
    "#nn.save_layer_weights(0, \"eye_classification_net_full_resnet18.w\")\n",
    "#nn.save_weights(\"eye_classification_net_full.w\")\n"
   ]
  },
  {
   "cell_type": "markdown",
   "metadata": {},
   "source": [
    "### Testing the model\n",
    "\n",
    "Testing the model is similar to training it. All we have to do is to call test_model() passing a EyeImageDataset object pointing to the test dataset images. \n",
    "\n",
    "If you're having I/O constraints, you can use the set_buffer_size(n) method to cache n images in memory. Be aware that you cant use it\n",
    "along with shuffle, because the cache will be constantly invalidated, unless you have a lot of memory and cache all of the images."
   ]
  },
  {
   "cell_type": "code",
   "execution_count": null,
   "metadata": {},
   "outputs": [],
   "source": [
    "input_size = 224\n",
    "\n",
    "apply_transforms = transforms.Compose([\n",
    "    transforms.Resize(size=input_size),\n",
    "    transforms.CenterCrop(size=input_size),\n",
    "    transforms.ToTensor(),\n",
    "    transforms.Normalize([0.485, 0.456, 0.406], [0.229, 0.224, 0.225])\n",
    "])\n",
    "\n",
    "ds = EyeImageDataset(root=image_dir_testing, data_info_csv_file=csv_file, transform=apply_transforms)\n"
   ]
  },
  {
   "cell_type": "code",
   "execution_count": null,
   "metadata": {},
   "outputs": [],
   "source": [
    "ds.set_buffer_size(16)\n",
    "nn.test_model(ds)"
   ]
  }
 ],
 "metadata": {
  "interpreter": {
   "hash": "31f2aee4e71d21fbe5cf8b01ff0e069b9275f58929596ceb00d14d90e3e16cd6"
  },
  "kernelspec": {
   "display_name": "Python 3.8.10 64-bit",
   "language": "python",
   "name": "python3"
  },
  "language_info": {
   "codemirror_mode": {
    "name": "ipython",
    "version": 3
   },
   "file_extension": ".py",
   "mimetype": "text/x-python",
   "name": "python",
   "nbconvert_exporter": "python",
   "pygments_lexer": "ipython3",
   "version": "3.8.10"
  },
  "orig_nbformat": 4
 },
 "nbformat": 4,
 "nbformat_minor": 2
}
