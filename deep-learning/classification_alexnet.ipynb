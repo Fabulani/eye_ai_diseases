{
 "cells": [
  {
   "cell_type": "code",
   "execution_count": 4,
   "metadata": {},
   "outputs": [],
   "source": [
    "import sys\n",
    "sys.path.insert(0, '..')\n",
    "\n",
    "import torch.nn as nn\n",
    "from torch.utils.data import DataLoader\n",
    "from utils.eye_dataset import *\n",
    "from eye_classifier import *\n",
    "import torchvision.transforms as transforms\n",
    "import torchvision.models as models"
   ]
  },
  {
   "cell_type": "markdown",
   "metadata": {},
   "source": [
    "### The Training Dataset\n",
    "\n",
    "We use the utility class EyeImageDataset() to load the training dataset based on the metadata CSV file and\n",
    "the target image folder\n",
    "\n",
    "The training images will be loaded as needed due to memory constraints.\n",
    "\n",
    "Since we're using the ALEXNET network, we need to resize our images to 224x224, so we apply some transforms on our dataset.\n",
    "\n",
    "We also need to proper normalize the dataset accordingly to the ALEXNET input expectations."
   ]
  },
  {
   "cell_type": "code",
   "execution_count": 5,
   "metadata": {},
   "outputs": [
    {
     "name": "stdout",
     "output_type": "stream",
     "text": [
      "reading input dataset\n"
     ]
    }
   ],
   "source": [
    "base_dir = \"../../data\"\n",
    "\n",
    "image_dir_training = f\"{base_dir}/ODIR-5K/training\"\n",
    "#image_dir_training = f\"{base_dir}/preprocessed_images\"\n",
    "image_dir_testing = f\"{base_dir}/ODIR-5K/testing\"\n",
    "csv_file = f'{base_dir}/ODIR-5K/data.csv'\n",
    "\n",
    "print ('reading input dataset')\n",
    "input_size = 224\n",
    "\n",
    "apply_transforms = transforms.Compose([\n",
    "    transforms.Resize(size=input_size),\n",
    "    transforms.CenterCrop(size=input_size),\n",
    "    transforms.ToTensor(),\n",
    "    transforms.Normalize([0.485, 0.456, 0.406], [0.229, 0.224, 0.225])\n",
    "])\n",
    "\n",
    "ds = EyeImageDataset(root=image_dir_training, data_info_csv_file=csv_file, transform=apply_transforms)"
   ]
  },
  {
   "cell_type": "markdown",
   "metadata": {},
   "source": [
    "### Building the model\n",
    "\n",
    "To build the model, we use the utility superclass EyeClassifier. \n",
    "\n",
    "We create a subclass named ResnetEyeClassifier and then we feed it with the intended model on its __init__ constructor.\n",
    "\n",
    "Here we're building a resnet18 as the first layer (in fact resnet18 is comprised of many layers), followed by three linear fully connected layers\n",
    "for image classification\n",
    "\n",
    "The last layer will not have a transfer function because we opted to use CrossEntropyLoss as the loss function. \n",
    "\n",
    "You can change the loss function by using set_loss_function() if you wish to\n"
   ]
  },
  {
   "cell_type": "code",
   "execution_count": 6,
   "metadata": {},
   "outputs": [
    {
     "name": "stdout",
     "output_type": "stream",
     "text": [
      "ResnetEyeClassifier(\n",
      "  (layer 1): AlexNet(\n",
      "    (features): Sequential(\n",
      "      (0): Conv2d(3, 64, kernel_size=(11, 11), stride=(4, 4), padding=(2, 2))\n",
      "      (1): ReLU(inplace=True)\n",
      "      (2): MaxPool2d(kernel_size=3, stride=2, padding=0, dilation=1, ceil_mode=False)\n",
      "      (3): Conv2d(64, 192, kernel_size=(5, 5), stride=(1, 1), padding=(2, 2))\n",
      "      (4): ReLU(inplace=True)\n",
      "      (5): MaxPool2d(kernel_size=3, stride=2, padding=0, dilation=1, ceil_mode=False)\n",
      "      (6): Conv2d(192, 384, kernel_size=(3, 3), stride=(1, 1), padding=(1, 1))\n",
      "      (7): ReLU(inplace=True)\n",
      "      (8): Conv2d(384, 256, kernel_size=(3, 3), stride=(1, 1), padding=(1, 1))\n",
      "      (9): ReLU(inplace=True)\n",
      "      (10): Conv2d(256, 256, kernel_size=(3, 3), stride=(1, 1), padding=(1, 1))\n",
      "      (11): ReLU(inplace=True)\n",
      "      (12): MaxPool2d(kernel_size=3, stride=2, padding=0, dilation=1, ceil_mode=False)\n",
      "    )\n",
      "    (avgpool): AdaptiveAvgPool2d(output_size=(6, 6))\n",
      "    (classifier): Sequential(\n",
      "      (0): Dropout(p=0.5, inplace=False)\n",
      "      (1): Linear(in_features=9216, out_features=4096, bias=True)\n",
      "      (2): ReLU(inplace=True)\n",
      "      (3): Dropout(p=0.5, inplace=False)\n",
      "      (4): Linear(in_features=4096, out_features=4096, bias=True)\n",
      "      (5): ReLU(inplace=True)\n",
      "      (6): Linear(in_features=4096, out_features=8, bias=True)\n",
      "    )\n",
      "  )\n",
      ")\n"
     ]
    }
   ],
   "source": [
    "\n",
    "class ResnetEyeClassifier(EyeClassifier):\n",
    "    def __init__(self, num_classes: int) -> None:\n",
    "        super(ResnetEyeClassifier, self).__init__(model=[\n",
    "\n",
    "            (models.AlexNet(num_classes=num_classes), TransferFunction.NotApplicable),\n",
    "        ])\n",
    "\n",
    "nn = ResnetEyeClassifier(num_classes=len(ds.classes))\n",
    "print(nn)"
   ]
  },
  {
   "cell_type": "markdown",
   "metadata": {},
   "source": [
    "### Training the model\n",
    "\n",
    "Training the model is very easy. All we have to do is to call train_model() passing the EyeImageDataset object. \n",
    "\n",
    "If you're having I/O constraints, you can use the set_buffer_size(n) method to cache n images in memory. Be aware that you cant use it\n",
    "along with shuffle, because the cache will be constantly invalidated, unless you have a lot of memory and cache all of the images."
   ]
  },
  {
   "cell_type": "code",
   "execution_count": 7,
   "metadata": {},
   "outputs": [
    {
     "name": "stdout",
     "output_type": "stream",
     "text": [
      "training (1%) epoch 1/100, loss = 2.0901\n"
     ]
    },
    {
     "ename": "KeyboardInterrupt",
     "evalue": "",
     "output_type": "error",
     "traceback": [
      "\u001b[0;31m---------------------------------------------------------------------------\u001b[0m",
      "\u001b[0;31mKeyboardInterrupt\u001b[0m                         Traceback (most recent call last)",
      "\u001b[1;32m/workspaces/VisaoComputacional/trabalho-final/src/deep-learning/classification_alexnet.ipynb Cell 7'\u001b[0m in \u001b[0;36m<cell line: 2>\u001b[0;34m()\u001b[0m\n\u001b[1;32m      <a href='vscode-notebook-cell://dev-container%2B2f686f6d652f637269737469616e6f2f446f63756d656e74732f50726f6a656374732f4d6573747261646f2f566973616f436f6d7075746163696f6e616c/workspaces/VisaoComputacional/trabalho-final/src/deep-learning/classification_alexnet.ipynb#ch0000006vscode-remote?line=0'>1</a>\u001b[0m \u001b[39m#ds.set_buffer_size(1024)\u001b[39;00m\n\u001b[0;32m----> <a href='vscode-notebook-cell://dev-container%2B2f686f6d652f637269737469616e6f2f446f63756d656e74732f50726f6a656374732f4d6573747261646f2f566973616f436f6d7075746163696f6e616c/workspaces/VisaoComputacional/trabalho-final/src/deep-learning/classification_alexnet.ipynb#ch0000006vscode-remote?line=1'>2</a>\u001b[0m nn\u001b[39m.\u001b[39;49mtrain_model(ds, shuffle\u001b[39m=\u001b[39;49m\u001b[39mTrue\u001b[39;49;00m, gpu\u001b[39m=\u001b[39;49m\u001b[39mFalse\u001b[39;49;00m)\n",
      "File \u001b[0;32m/workspaces/VisaoComputacional/trabalho-final/src/deep-learning/eye_classifier.py:123\u001b[0m, in \u001b[0;36mEyeClassifier.train_model\u001b[0;34m(self, dataset, num_epochs, batch_size, learning_rate, gpu, verbose, shuffle)\u001b[0m\n\u001b[1;32m    <a href='file:///workspaces/VisaoComputacional/trabalho-final/src/deep-learning/eye_classifier.py?line=119'>120</a>\u001b[0m train_percent_pos \u001b[39m=\u001b[39m \u001b[39m0\u001b[39m\n\u001b[1;32m    <a href='file:///workspaces/VisaoComputacional/trabalho-final/src/deep-learning/eye_classifier.py?line=121'>122</a>\u001b[0m \u001b[39mfor\u001b[39;00m epoch \u001b[39min\u001b[39;00m \u001b[39mrange\u001b[39m(num_epochs):\n\u001b[0;32m--> <a href='file:///workspaces/VisaoComputacional/trabalho-final/src/deep-learning/eye_classifier.py?line=122'>123</a>\u001b[0m     \u001b[39mfor\u001b[39;00m i, (images, labels) \u001b[39min\u001b[39;00m \u001b[39menumerate\u001b[39m(train_loader):\n\u001b[1;32m    <a href='file:///workspaces/VisaoComputacional/trabalho-final/src/deep-learning/eye_classifier.py?line=124'>125</a>\u001b[0m         device \u001b[39m=\u001b[39m \u001b[39mself\u001b[39m\u001b[39m.\u001b[39m__device\n\u001b[1;32m    <a href='file:///workspaces/VisaoComputacional/trabalho-final/src/deep-learning/eye_classifier.py?line=125'>126</a>\u001b[0m         images \u001b[39m=\u001b[39m images\u001b[39m.\u001b[39mto(device)\n",
      "File \u001b[0;32m/usr/local/lib/python3.8/dist-packages/torch/utils/data/dataloader.py:521\u001b[0m, in \u001b[0;36m_BaseDataLoaderIter.__next__\u001b[0;34m(self)\u001b[0m\n\u001b[1;32m    <a href='file:///usr/local/lib/python3.8/dist-packages/torch/utils/data/dataloader.py?line=518'>519</a>\u001b[0m \u001b[39mif\u001b[39;00m \u001b[39mself\u001b[39m\u001b[39m.\u001b[39m_sampler_iter \u001b[39mis\u001b[39;00m \u001b[39mNone\u001b[39;00m:\n\u001b[1;32m    <a href='file:///usr/local/lib/python3.8/dist-packages/torch/utils/data/dataloader.py?line=519'>520</a>\u001b[0m     \u001b[39mself\u001b[39m\u001b[39m.\u001b[39m_reset()\n\u001b[0;32m--> <a href='file:///usr/local/lib/python3.8/dist-packages/torch/utils/data/dataloader.py?line=520'>521</a>\u001b[0m data \u001b[39m=\u001b[39m \u001b[39mself\u001b[39;49m\u001b[39m.\u001b[39;49m_next_data()\n\u001b[1;32m    <a href='file:///usr/local/lib/python3.8/dist-packages/torch/utils/data/dataloader.py?line=521'>522</a>\u001b[0m \u001b[39mself\u001b[39m\u001b[39m.\u001b[39m_num_yielded \u001b[39m+\u001b[39m\u001b[39m=\u001b[39m \u001b[39m1\u001b[39m\n\u001b[1;32m    <a href='file:///usr/local/lib/python3.8/dist-packages/torch/utils/data/dataloader.py?line=522'>523</a>\u001b[0m \u001b[39mif\u001b[39;00m \u001b[39mself\u001b[39m\u001b[39m.\u001b[39m_dataset_kind \u001b[39m==\u001b[39m _DatasetKind\u001b[39m.\u001b[39mIterable \u001b[39mand\u001b[39;00m \\\n\u001b[1;32m    <a href='file:///usr/local/lib/python3.8/dist-packages/torch/utils/data/dataloader.py?line=523'>524</a>\u001b[0m         \u001b[39mself\u001b[39m\u001b[39m.\u001b[39m_IterableDataset_len_called \u001b[39mis\u001b[39;00m \u001b[39mnot\u001b[39;00m \u001b[39mNone\u001b[39;00m \u001b[39mand\u001b[39;00m \\\n\u001b[1;32m    <a href='file:///usr/local/lib/python3.8/dist-packages/torch/utils/data/dataloader.py?line=524'>525</a>\u001b[0m         \u001b[39mself\u001b[39m\u001b[39m.\u001b[39m_num_yielded \u001b[39m>\u001b[39m \u001b[39mself\u001b[39m\u001b[39m.\u001b[39m_IterableDataset_len_called:\n",
      "File \u001b[0;32m/usr/local/lib/python3.8/dist-packages/torch/utils/data/dataloader.py:561\u001b[0m, in \u001b[0;36m_SingleProcessDataLoaderIter._next_data\u001b[0;34m(self)\u001b[0m\n\u001b[1;32m    <a href='file:///usr/local/lib/python3.8/dist-packages/torch/utils/data/dataloader.py?line=558'>559</a>\u001b[0m \u001b[39mdef\u001b[39;00m \u001b[39m_next_data\u001b[39m(\u001b[39mself\u001b[39m):\n\u001b[1;32m    <a href='file:///usr/local/lib/python3.8/dist-packages/torch/utils/data/dataloader.py?line=559'>560</a>\u001b[0m     index \u001b[39m=\u001b[39m \u001b[39mself\u001b[39m\u001b[39m.\u001b[39m_next_index()  \u001b[39m# may raise StopIteration\u001b[39;00m\n\u001b[0;32m--> <a href='file:///usr/local/lib/python3.8/dist-packages/torch/utils/data/dataloader.py?line=560'>561</a>\u001b[0m     data \u001b[39m=\u001b[39m \u001b[39mself\u001b[39;49m\u001b[39m.\u001b[39;49m_dataset_fetcher\u001b[39m.\u001b[39;49mfetch(index)  \u001b[39m# may raise StopIteration\u001b[39;00m\n\u001b[1;32m    <a href='file:///usr/local/lib/python3.8/dist-packages/torch/utils/data/dataloader.py?line=561'>562</a>\u001b[0m     \u001b[39mif\u001b[39;00m \u001b[39mself\u001b[39m\u001b[39m.\u001b[39m_pin_memory:\n\u001b[1;32m    <a href='file:///usr/local/lib/python3.8/dist-packages/torch/utils/data/dataloader.py?line=562'>563</a>\u001b[0m         data \u001b[39m=\u001b[39m _utils\u001b[39m.\u001b[39mpin_memory\u001b[39m.\u001b[39mpin_memory(data)\n",
      "File \u001b[0;32m/usr/local/lib/python3.8/dist-packages/torch/utils/data/_utils/fetch.py:49\u001b[0m, in \u001b[0;36m_MapDatasetFetcher.fetch\u001b[0;34m(self, possibly_batched_index)\u001b[0m\n\u001b[1;32m     <a href='file:///usr/local/lib/python3.8/dist-packages/torch/utils/data/_utils/fetch.py?line=46'>47</a>\u001b[0m \u001b[39mdef\u001b[39;00m \u001b[39mfetch\u001b[39m(\u001b[39mself\u001b[39m, possibly_batched_index):\n\u001b[1;32m     <a href='file:///usr/local/lib/python3.8/dist-packages/torch/utils/data/_utils/fetch.py?line=47'>48</a>\u001b[0m     \u001b[39mif\u001b[39;00m \u001b[39mself\u001b[39m\u001b[39m.\u001b[39mauto_collation:\n\u001b[0;32m---> <a href='file:///usr/local/lib/python3.8/dist-packages/torch/utils/data/_utils/fetch.py?line=48'>49</a>\u001b[0m         data \u001b[39m=\u001b[39m [\u001b[39mself\u001b[39m\u001b[39m.\u001b[39mdataset[idx] \u001b[39mfor\u001b[39;00m idx \u001b[39min\u001b[39;00m possibly_batched_index]\n\u001b[1;32m     <a href='file:///usr/local/lib/python3.8/dist-packages/torch/utils/data/_utils/fetch.py?line=49'>50</a>\u001b[0m     \u001b[39melse\u001b[39;00m:\n\u001b[1;32m     <a href='file:///usr/local/lib/python3.8/dist-packages/torch/utils/data/_utils/fetch.py?line=50'>51</a>\u001b[0m         data \u001b[39m=\u001b[39m \u001b[39mself\u001b[39m\u001b[39m.\u001b[39mdataset[possibly_batched_index]\n",
      "File \u001b[0;32m/usr/local/lib/python3.8/dist-packages/torch/utils/data/_utils/fetch.py:49\u001b[0m, in \u001b[0;36m<listcomp>\u001b[0;34m(.0)\u001b[0m\n\u001b[1;32m     <a href='file:///usr/local/lib/python3.8/dist-packages/torch/utils/data/_utils/fetch.py?line=46'>47</a>\u001b[0m \u001b[39mdef\u001b[39;00m \u001b[39mfetch\u001b[39m(\u001b[39mself\u001b[39m, possibly_batched_index):\n\u001b[1;32m     <a href='file:///usr/local/lib/python3.8/dist-packages/torch/utils/data/_utils/fetch.py?line=47'>48</a>\u001b[0m     \u001b[39mif\u001b[39;00m \u001b[39mself\u001b[39m\u001b[39m.\u001b[39mauto_collation:\n\u001b[0;32m---> <a href='file:///usr/local/lib/python3.8/dist-packages/torch/utils/data/_utils/fetch.py?line=48'>49</a>\u001b[0m         data \u001b[39m=\u001b[39m [\u001b[39mself\u001b[39;49m\u001b[39m.\u001b[39;49mdataset[idx] \u001b[39mfor\u001b[39;00m idx \u001b[39min\u001b[39;00m possibly_batched_index]\n\u001b[1;32m     <a href='file:///usr/local/lib/python3.8/dist-packages/torch/utils/data/_utils/fetch.py?line=49'>50</a>\u001b[0m     \u001b[39melse\u001b[39;00m:\n\u001b[1;32m     <a href='file:///usr/local/lib/python3.8/dist-packages/torch/utils/data/_utils/fetch.py?line=50'>51</a>\u001b[0m         data \u001b[39m=\u001b[39m \u001b[39mself\u001b[39m\u001b[39m.\u001b[39mdataset[possibly_batched_index]\n",
      "File \u001b[0;32m/workspaces/VisaoComputacional/trabalho-final/src/deep-learning/../utils/eye_dataset.py:102\u001b[0m, in \u001b[0;36mEyeImageDataset.__getitem__\u001b[0;34m(self, index)\u001b[0m\n\u001b[1;32m     <a href='file:///workspaces/VisaoComputacional/trabalho-final/src/deep-learning/../utils/eye_dataset.py?line=98'>99</a>\u001b[0m img_file, target \u001b[39m=\u001b[39m \u001b[39mself\u001b[39m\u001b[39m.\u001b[39mfiles[index], \u001b[39mself\u001b[39m\u001b[39m.\u001b[39mtargets[index]\n\u001b[1;32m    <a href='file:///workspaces/VisaoComputacional/trabalho-final/src/deep-learning/../utils/eye_dataset.py?line=100'>101</a>\u001b[0m \u001b[39m# img = io.imread(img_file)\u001b[39;00m\n\u001b[0;32m--> <a href='file:///workspaces/VisaoComputacional/trabalho-final/src/deep-learning/../utils/eye_dataset.py?line=101'>102</a>\u001b[0m img \u001b[39m=\u001b[39m \u001b[39mself\u001b[39;49m\u001b[39m.\u001b[39;49m__read_image__(index)\n\u001b[1;32m    <a href='file:///workspaces/VisaoComputacional/trabalho-final/src/deep-learning/../utils/eye_dataset.py?line=103'>104</a>\u001b[0m \u001b[39m# doing this so that it is consistent with all other datasets\u001b[39;00m\n\u001b[1;32m    <a href='file:///workspaces/VisaoComputacional/trabalho-final/src/deep-learning/../utils/eye_dataset.py?line=104'>105</a>\u001b[0m \u001b[39m# to return a PIL Image\u001b[39;00m\n\u001b[1;32m    <a href='file:///workspaces/VisaoComputacional/trabalho-final/src/deep-learning/../utils/eye_dataset.py?line=105'>106</a>\u001b[0m img \u001b[39m=\u001b[39m Image\u001b[39m.\u001b[39mfromarray(img)\n",
      "File \u001b[0;32m/workspaces/VisaoComputacional/trabalho-final/src/deep-learning/../utils/eye_dataset.py:71\u001b[0m, in \u001b[0;36mEyeImageDataset.__read_image__\u001b[0;34m(self, index)\u001b[0m\n\u001b[1;32m     <a href='file:///workspaces/VisaoComputacional/trabalho-final/src/deep-learning/../utils/eye_dataset.py?line=67'>68</a>\u001b[0m \u001b[39mdef\u001b[39;00m \u001b[39m__read_image__\u001b[39m(\u001b[39mself\u001b[39m, index: \u001b[39mint\u001b[39m) \u001b[39m-\u001b[39m\u001b[39m>\u001b[39m Any:\n\u001b[1;32m     <a href='file:///workspaces/VisaoComputacional/trabalho-final/src/deep-learning/../utils/eye_dataset.py?line=68'>69</a>\u001b[0m     \u001b[39mif\u001b[39;00m \u001b[39mself\u001b[39m\u001b[39m.\u001b[39m__buffer_max_size \u001b[39m<\u001b[39m\u001b[39m=\u001b[39m \u001b[39m0\u001b[39m:\n\u001b[1;32m     <a href='file:///workspaces/VisaoComputacional/trabalho-final/src/deep-learning/../utils/eye_dataset.py?line=69'>70</a>\u001b[0m         \u001b[39m# cache not available\u001b[39;00m\n\u001b[0;32m---> <a href='file:///workspaces/VisaoComputacional/trabalho-final/src/deep-learning/../utils/eye_dataset.py?line=70'>71</a>\u001b[0m         \u001b[39mreturn\u001b[39;00m io\u001b[39m.\u001b[39;49mimread(\u001b[39mself\u001b[39;49m\u001b[39m.\u001b[39;49mfiles[index])\n\u001b[1;32m     <a href='file:///workspaces/VisaoComputacional/trabalho-final/src/deep-learning/../utils/eye_dataset.py?line=72'>73</a>\u001b[0m     \u001b[39mif\u001b[39;00m index \u001b[39m<\u001b[39m \u001b[39mself\u001b[39m\u001b[39m.\u001b[39m__buffer_pos:\n\u001b[1;32m     <a href='file:///workspaces/VisaoComputacional/trabalho-final/src/deep-learning/../utils/eye_dataset.py?line=73'>74</a>\u001b[0m         \u001b[39m# reading the past...\u001b[39;00m\n\u001b[1;32m     <a href='file:///workspaces/VisaoComputacional/trabalho-final/src/deep-learning/../utils/eye_dataset.py?line=74'>75</a>\u001b[0m         \u001b[39mreturn\u001b[39;00m io\u001b[39m.\u001b[39mimread(\u001b[39mself\u001b[39m\u001b[39m.\u001b[39mfiles[index])\n",
      "File \u001b[0;32m/usr/local/lib/python3.8/dist-packages/skimage/io/_io.py:53\u001b[0m, in \u001b[0;36mimread\u001b[0;34m(fname, as_gray, plugin, **plugin_args)\u001b[0m\n\u001b[1;32m     <a href='file:///usr/local/lib/python3.8/dist-packages/skimage/io/_io.py?line=49'>50</a>\u001b[0m         plugin \u001b[39m=\u001b[39m \u001b[39m'\u001b[39m\u001b[39mtifffile\u001b[39m\u001b[39m'\u001b[39m\n\u001b[1;32m     <a href='file:///usr/local/lib/python3.8/dist-packages/skimage/io/_io.py?line=51'>52</a>\u001b[0m \u001b[39mwith\u001b[39;00m file_or_url_context(fname) \u001b[39mas\u001b[39;00m fname:\n\u001b[0;32m---> <a href='file:///usr/local/lib/python3.8/dist-packages/skimage/io/_io.py?line=52'>53</a>\u001b[0m     img \u001b[39m=\u001b[39m call_plugin(\u001b[39m'\u001b[39;49m\u001b[39mimread\u001b[39;49m\u001b[39m'\u001b[39;49m, fname, plugin\u001b[39m=\u001b[39;49mplugin, \u001b[39m*\u001b[39;49m\u001b[39m*\u001b[39;49mplugin_args)\n\u001b[1;32m     <a href='file:///usr/local/lib/python3.8/dist-packages/skimage/io/_io.py?line=54'>55</a>\u001b[0m \u001b[39mif\u001b[39;00m \u001b[39mnot\u001b[39;00m \u001b[39mhasattr\u001b[39m(img, \u001b[39m'\u001b[39m\u001b[39mndim\u001b[39m\u001b[39m'\u001b[39m):\n\u001b[1;32m     <a href='file:///usr/local/lib/python3.8/dist-packages/skimage/io/_io.py?line=55'>56</a>\u001b[0m     \u001b[39mreturn\u001b[39;00m img\n",
      "File \u001b[0;32m/usr/local/lib/python3.8/dist-packages/skimage/io/manage_plugins.py:207\u001b[0m, in \u001b[0;36mcall_plugin\u001b[0;34m(kind, *args, **kwargs)\u001b[0m\n\u001b[1;32m    <a href='file:///usr/local/lib/python3.8/dist-packages/skimage/io/manage_plugins.py?line=202'>203</a>\u001b[0m     \u001b[39mexcept\u001b[39;00m \u001b[39mIndexError\u001b[39;00m:\n\u001b[1;32m    <a href='file:///usr/local/lib/python3.8/dist-packages/skimage/io/manage_plugins.py?line=203'>204</a>\u001b[0m         \u001b[39mraise\u001b[39;00m \u001b[39mRuntimeError\u001b[39;00m(\u001b[39m'\u001b[39m\u001b[39mCould not find the plugin \u001b[39m\u001b[39m\"\u001b[39m\u001b[39m%s\u001b[39;00m\u001b[39m\"\u001b[39m\u001b[39m for \u001b[39m\u001b[39m%s\u001b[39;00m\u001b[39m.\u001b[39m\u001b[39m'\u001b[39m \u001b[39m%\u001b[39m\n\u001b[1;32m    <a href='file:///usr/local/lib/python3.8/dist-packages/skimage/io/manage_plugins.py?line=204'>205</a>\u001b[0m                            (plugin, kind))\n\u001b[0;32m--> <a href='file:///usr/local/lib/python3.8/dist-packages/skimage/io/manage_plugins.py?line=206'>207</a>\u001b[0m \u001b[39mreturn\u001b[39;00m func(\u001b[39m*\u001b[39;49margs, \u001b[39m*\u001b[39;49m\u001b[39m*\u001b[39;49mkwargs)\n",
      "File \u001b[0;32m/usr/local/lib/python3.8/dist-packages/skimage/io/_plugins/imageio_plugin.py:10\u001b[0m, in \u001b[0;36mimread\u001b[0;34m(*args, **kwargs)\u001b[0m\n\u001b[1;32m      <a href='file:///usr/local/lib/python3.8/dist-packages/skimage/io/_plugins/imageio_plugin.py?line=7'>8</a>\u001b[0m \u001b[39m@wraps\u001b[39m(imageio_imread)\n\u001b[1;32m      <a href='file:///usr/local/lib/python3.8/dist-packages/skimage/io/_plugins/imageio_plugin.py?line=8'>9</a>\u001b[0m \u001b[39mdef\u001b[39;00m \u001b[39mimread\u001b[39m(\u001b[39m*\u001b[39margs, \u001b[39m*\u001b[39m\u001b[39m*\u001b[39mkwargs):\n\u001b[0;32m---> <a href='file:///usr/local/lib/python3.8/dist-packages/skimage/io/_plugins/imageio_plugin.py?line=9'>10</a>\u001b[0m     \u001b[39mreturn\u001b[39;00m np\u001b[39m.\u001b[39masarray(imageio_imread(\u001b[39m*\u001b[39;49margs, \u001b[39m*\u001b[39;49m\u001b[39m*\u001b[39;49mkwargs))\n",
      "File \u001b[0;32m/usr/local/lib/python3.8/dist-packages/imageio/__init__.py:86\u001b[0m, in \u001b[0;36mimread\u001b[0;34m(uri, format, **kwargs)\u001b[0m\n\u001b[1;32m     <a href='file:///usr/local/lib/python3.8/dist-packages/imageio/__init__.py?line=64'>65</a>\u001b[0m \u001b[39mdef\u001b[39;00m \u001b[39mimread\u001b[39m(uri, \u001b[39mformat\u001b[39m\u001b[39m=\u001b[39m\u001b[39mNone\u001b[39;00m, \u001b[39m*\u001b[39m\u001b[39m*\u001b[39mkwargs):\n\u001b[1;32m     <a href='file:///usr/local/lib/python3.8/dist-packages/imageio/__init__.py?line=65'>66</a>\u001b[0m     \u001b[39m\"\"\"imread(uri, format=None, **kwargs)\u001b[39;00m\n\u001b[1;32m     <a href='file:///usr/local/lib/python3.8/dist-packages/imageio/__init__.py?line=66'>67</a>\u001b[0m \n\u001b[1;32m     <a href='file:///usr/local/lib/python3.8/dist-packages/imageio/__init__.py?line=67'>68</a>\u001b[0m \u001b[39m    Reads an image from the specified file. Returns a numpy array, which\u001b[39;00m\n\u001b[0;32m   (...)\u001b[0m\n\u001b[1;32m     <a href='file:///usr/local/lib/python3.8/dist-packages/imageio/__init__.py?line=83'>84</a>\u001b[0m \u001b[39m        to see what arguments are available for a particular format.\u001b[39;00m\n\u001b[1;32m     <a href='file:///usr/local/lib/python3.8/dist-packages/imageio/__init__.py?line=84'>85</a>\u001b[0m \u001b[39m    \"\"\"\u001b[39;00m\n\u001b[0;32m---> <a href='file:///usr/local/lib/python3.8/dist-packages/imageio/__init__.py?line=85'>86</a>\u001b[0m     \u001b[39mreturn\u001b[39;00m imread_v2(uri, \u001b[39mformat\u001b[39;49m\u001b[39m=\u001b[39;49m\u001b[39mformat\u001b[39;49m, \u001b[39m*\u001b[39;49m\u001b[39m*\u001b[39;49mkwargs)\n",
      "File \u001b[0;32m/usr/local/lib/python3.8/dist-packages/imageio/v2.py:160\u001b[0m, in \u001b[0;36mimread\u001b[0;34m(uri, format, **kwargs)\u001b[0m\n\u001b[1;32m    <a href='file:///usr/local/lib/python3.8/dist-packages/imageio/v2.py?line=154'>155</a>\u001b[0m     \u001b[39mraise\u001b[39;00m \u001b[39mTypeError\u001b[39;00m(\n\u001b[1;32m    <a href='file:///usr/local/lib/python3.8/dist-packages/imageio/v2.py?line=155'>156</a>\u001b[0m         \u001b[39m'\u001b[39m\u001b[39mInvalid keyword argument \u001b[39m\u001b[39m\"\u001b[39m\u001b[39mmode\u001b[39m\u001b[39m\"\u001b[39m\u001b[39m, \u001b[39m\u001b[39m'\u001b[39m \u001b[39m'\u001b[39m\u001b[39mperhaps you mean \u001b[39m\u001b[39m\"\u001b[39m\u001b[39mpilmode\u001b[39m\u001b[39m\"\u001b[39m\u001b[39m?\u001b[39m\u001b[39m'\u001b[39m\n\u001b[1;32m    <a href='file:///usr/local/lib/python3.8/dist-packages/imageio/v2.py?line=156'>157</a>\u001b[0m     )\n\u001b[1;32m    <a href='file:///usr/local/lib/python3.8/dist-packages/imageio/v2.py?line=158'>159</a>\u001b[0m \u001b[39mwith\u001b[39;00m imopen(uri, \u001b[39m\"\u001b[39m\u001b[39mri\u001b[39m\u001b[39m\"\u001b[39m, plugin\u001b[39m=\u001b[39m\u001b[39mformat\u001b[39m) \u001b[39mas\u001b[39;00m file:\n\u001b[0;32m--> <a href='file:///usr/local/lib/python3.8/dist-packages/imageio/v2.py?line=159'>160</a>\u001b[0m     \u001b[39mreturn\u001b[39;00m file\u001b[39m.\u001b[39;49mread(index\u001b[39m=\u001b[39;49m\u001b[39m0\u001b[39;49m, \u001b[39m*\u001b[39;49m\u001b[39m*\u001b[39;49mkwargs)\n",
      "File \u001b[0;32m/usr/local/lib/python3.8/dist-packages/imageio/core/legacy_plugin_wrapper.py:132\u001b[0m, in \u001b[0;36mLegacyPlugin.read\u001b[0;34m(self, index, **kwargs)\u001b[0m\n\u001b[1;32m    <a href='file:///usr/local/lib/python3.8/dist-packages/imageio/core/legacy_plugin_wrapper.py?line=128'>129</a>\u001b[0m     img \u001b[39m=\u001b[39m np\u001b[39m.\u001b[39mstack([im \u001b[39mfor\u001b[39;00m im \u001b[39min\u001b[39;00m \u001b[39mself\u001b[39m\u001b[39m.\u001b[39miter(\u001b[39m*\u001b[39m\u001b[39m*\u001b[39mkwargs)])\n\u001b[1;32m    <a href='file:///usr/local/lib/python3.8/dist-packages/imageio/core/legacy_plugin_wrapper.py?line=129'>130</a>\u001b[0m     \u001b[39mreturn\u001b[39;00m img\n\u001b[0;32m--> <a href='file:///usr/local/lib/python3.8/dist-packages/imageio/core/legacy_plugin_wrapper.py?line=131'>132</a>\u001b[0m reader \u001b[39m=\u001b[39m \u001b[39mself\u001b[39;49m\u001b[39m.\u001b[39;49mlegacy_get_reader(\u001b[39m*\u001b[39;49m\u001b[39m*\u001b[39;49mkwargs)\n\u001b[1;32m    <a href='file:///usr/local/lib/python3.8/dist-packages/imageio/core/legacy_plugin_wrapper.py?line=132'>133</a>\u001b[0m \u001b[39mreturn\u001b[39;00m reader\u001b[39m.\u001b[39mget_data(index)\n",
      "File \u001b[0;32m/usr/local/lib/python3.8/dist-packages/imageio/core/legacy_plugin_wrapper.py:104\u001b[0m, in \u001b[0;36mLegacyPlugin.legacy_get_reader\u001b[0;34m(self, **kwargs)\u001b[0m\n\u001b[1;32m    <a href='file:///usr/local/lib/python3.8/dist-packages/imageio/core/legacy_plugin_wrapper.py?line=100'>101</a>\u001b[0m     \u001b[39mreturn\u001b[39;00m \u001b[39mself\u001b[39m\u001b[39m.\u001b[39m_format\u001b[39m.\u001b[39mget_reader(\u001b[39mself\u001b[39m\u001b[39m.\u001b[39m_request)\n\u001b[1;32m    <a href='file:///usr/local/lib/python3.8/dist-packages/imageio/core/legacy_plugin_wrapper.py?line=102'>103</a>\u001b[0m \u001b[39mself\u001b[39m\u001b[39m.\u001b[39m_request\u001b[39m.\u001b[39mget_file()\u001b[39m.\u001b[39mseek(\u001b[39m0\u001b[39m)\n\u001b[0;32m--> <a href='file:///usr/local/lib/python3.8/dist-packages/imageio/core/legacy_plugin_wrapper.py?line=103'>104</a>\u001b[0m \u001b[39mreturn\u001b[39;00m \u001b[39mself\u001b[39;49m\u001b[39m.\u001b[39;49m_format\u001b[39m.\u001b[39;49mget_reader(\u001b[39mself\u001b[39;49m\u001b[39m.\u001b[39;49m_request)\n",
      "File \u001b[0;32m/usr/local/lib/python3.8/dist-packages/imageio/core/format.py:190\u001b[0m, in \u001b[0;36mFormat.get_reader\u001b[0;34m(self, request)\u001b[0m\n\u001b[1;32m    <a href='file:///usr/local/lib/python3.8/dist-packages/imageio/core/format.py?line=185'>186</a>\u001b[0m \u001b[39mif\u001b[39;00m select_mode \u001b[39mnot\u001b[39;00m \u001b[39min\u001b[39;00m \u001b[39mself\u001b[39m\u001b[39m.\u001b[39mmodes:\n\u001b[1;32m    <a href='file:///usr/local/lib/python3.8/dist-packages/imageio/core/format.py?line=186'>187</a>\u001b[0m     \u001b[39mraise\u001b[39;00m \u001b[39mRuntimeError\u001b[39;00m(\n\u001b[1;32m    <a href='file:///usr/local/lib/python3.8/dist-packages/imageio/core/format.py?line=187'>188</a>\u001b[0m         \u001b[39mf\u001b[39m\u001b[39m\"\u001b[39m\u001b[39mFormat \u001b[39m\u001b[39m{\u001b[39;00m\u001b[39mself\u001b[39m\u001b[39m.\u001b[39mname\u001b[39m}\u001b[39;00m\u001b[39m cannot read in \u001b[39m\u001b[39m{\u001b[39;00mrequest\u001b[39m.\u001b[39mmode\u001b[39m.\u001b[39mimage_mode\u001b[39m}\u001b[39;00m\u001b[39m mode\u001b[39m\u001b[39m\"\u001b[39m\n\u001b[1;32m    <a href='file:///usr/local/lib/python3.8/dist-packages/imageio/core/format.py?line=188'>189</a>\u001b[0m     )\n\u001b[0;32m--> <a href='file:///usr/local/lib/python3.8/dist-packages/imageio/core/format.py?line=189'>190</a>\u001b[0m \u001b[39mreturn\u001b[39;00m \u001b[39mself\u001b[39;49m\u001b[39m.\u001b[39;49mReader(\u001b[39mself\u001b[39;49m, request)\n",
      "File \u001b[0;32m/usr/local/lib/python3.8/dist-packages/imageio/core/format.py:281\u001b[0m, in \u001b[0;36mFormat._BaseReaderWriter.__init__\u001b[0;34m(self, format, request)\u001b[0m\n\u001b[1;32m    <a href='file:///usr/local/lib/python3.8/dist-packages/imageio/core/format.py?line=278'>279</a>\u001b[0m \u001b[39mself\u001b[39m\u001b[39m.\u001b[39m_request \u001b[39m=\u001b[39m request\n\u001b[1;32m    <a href='file:///usr/local/lib/python3.8/dist-packages/imageio/core/format.py?line=279'>280</a>\u001b[0m \u001b[39m# Open the reader/writer\u001b[39;00m\n\u001b[0;32m--> <a href='file:///usr/local/lib/python3.8/dist-packages/imageio/core/format.py?line=280'>281</a>\u001b[0m \u001b[39mself\u001b[39;49m\u001b[39m.\u001b[39;49m_open(\u001b[39m*\u001b[39;49m\u001b[39m*\u001b[39;49m\u001b[39mself\u001b[39;49m\u001b[39m.\u001b[39;49mrequest\u001b[39m.\u001b[39;49mkwargs\u001b[39m.\u001b[39;49mcopy())\n",
      "File \u001b[0;32m/usr/local/lib/python3.8/dist-packages/imageio/plugins/pillow_legacy.py:468\u001b[0m, in \u001b[0;36mJPEGFormat.Reader._open\u001b[0;34m(self, pilmode, as_gray, exifrotate)\u001b[0m\n\u001b[1;32m    <a href='file:///usr/local/lib/python3.8/dist-packages/imageio/plugins/pillow_legacy.py?line=466'>467</a>\u001b[0m \u001b[39mdef\u001b[39;00m \u001b[39m_open\u001b[39m(\u001b[39mself\u001b[39m, pilmode\u001b[39m=\u001b[39m\u001b[39mNone\u001b[39;00m, as_gray\u001b[39m=\u001b[39m\u001b[39mFalse\u001b[39;00m, exifrotate\u001b[39m=\u001b[39m\u001b[39mTrue\u001b[39;00m):\n\u001b[0;32m--> <a href='file:///usr/local/lib/python3.8/dist-packages/imageio/plugins/pillow_legacy.py?line=467'>468</a>\u001b[0m     \u001b[39mreturn\u001b[39;00m PillowFormat\u001b[39m.\u001b[39;49mReader\u001b[39m.\u001b[39;49m_open(\u001b[39mself\u001b[39;49m, pilmode\u001b[39m=\u001b[39;49mpilmode, as_gray\u001b[39m=\u001b[39;49mas_gray)\n",
      "File \u001b[0;32m/usr/local/lib/python3.8/dist-packages/imageio/plugins/pillow_legacy.py:300\u001b[0m, in \u001b[0;36mPillowFormat.Reader._open\u001b[0;34m(self, pilmode, as_gray)\u001b[0m\n\u001b[1;32m    <a href='file:///usr/local/lib/python3.8/dist-packages/imageio/plugins/pillow_legacy.py?line=297'>298</a>\u001b[0m \u001b[39mif\u001b[39;00m \u001b[39mself\u001b[39m\u001b[39m.\u001b[39m_im\u001b[39m.\u001b[39mpalette \u001b[39mand\u001b[39;00m \u001b[39mself\u001b[39m\u001b[39m.\u001b[39m_im\u001b[39m.\u001b[39mpalette\u001b[39m.\u001b[39mdirty:\n\u001b[1;32m    <a href='file:///usr/local/lib/python3.8/dist-packages/imageio/plugins/pillow_legacy.py?line=298'>299</a>\u001b[0m     \u001b[39mself\u001b[39m\u001b[39m.\u001b[39m_im\u001b[39m.\u001b[39mpalette\u001b[39m.\u001b[39mrawmode_saved \u001b[39m=\u001b[39m \u001b[39mself\u001b[39m\u001b[39m.\u001b[39m_im\u001b[39m.\u001b[39mpalette\u001b[39m.\u001b[39mrawmode\n\u001b[0;32m--> <a href='file:///usr/local/lib/python3.8/dist-packages/imageio/plugins/pillow_legacy.py?line=299'>300</a>\u001b[0m pil_try_read(\u001b[39mself\u001b[39;49m\u001b[39m.\u001b[39;49m_im)\n\u001b[1;32m    <a href='file:///usr/local/lib/python3.8/dist-packages/imageio/plugins/pillow_legacy.py?line=300'>301</a>\u001b[0m \u001b[39m# Store args\u001b[39;00m\n\u001b[1;32m    <a href='file:///usr/local/lib/python3.8/dist-packages/imageio/plugins/pillow_legacy.py?line=301'>302</a>\u001b[0m \u001b[39mself\u001b[39m\u001b[39m.\u001b[39m_kwargs \u001b[39m=\u001b[39m \u001b[39mdict\u001b[39m(\n\u001b[1;32m    <a href='file:///usr/local/lib/python3.8/dist-packages/imageio/plugins/pillow_legacy.py?line=302'>303</a>\u001b[0m     as_gray\u001b[39m=\u001b[39mas_gray, is_gray\u001b[39m=\u001b[39m_palette_is_grayscale(\u001b[39mself\u001b[39m\u001b[39m.\u001b[39m_im)\n\u001b[1;32m    <a href='file:///usr/local/lib/python3.8/dist-packages/imageio/plugins/pillow_legacy.py?line=303'>304</a>\u001b[0m )\n",
      "File \u001b[0;32m/usr/local/lib/python3.8/dist-packages/imageio/plugins/pillow_legacy.py:654\u001b[0m, in \u001b[0;36mpil_try_read\u001b[0;34m(im)\u001b[0m\n\u001b[1;32m    <a href='file:///usr/local/lib/python3.8/dist-packages/imageio/plugins/pillow_legacy.py?line=650'>651</a>\u001b[0m \u001b[39mdef\u001b[39;00m \u001b[39mpil_try_read\u001b[39m(im):\n\u001b[1;32m    <a href='file:///usr/local/lib/python3.8/dist-packages/imageio/plugins/pillow_legacy.py?line=651'>652</a>\u001b[0m     \u001b[39mtry\u001b[39;00m:\n\u001b[1;32m    <a href='file:///usr/local/lib/python3.8/dist-packages/imageio/plugins/pillow_legacy.py?line=652'>653</a>\u001b[0m         \u001b[39m# this will raise an IOError if the file is not readable\u001b[39;00m\n\u001b[0;32m--> <a href='file:///usr/local/lib/python3.8/dist-packages/imageio/plugins/pillow_legacy.py?line=653'>654</a>\u001b[0m         im\u001b[39m.\u001b[39;49mgetdata()[\u001b[39m0\u001b[39m]\n\u001b[1;32m    <a href='file:///usr/local/lib/python3.8/dist-packages/imageio/plugins/pillow_legacy.py?line=654'>655</a>\u001b[0m     \u001b[39mexcept\u001b[39;00m \u001b[39mIOError\u001b[39;00m \u001b[39mas\u001b[39;00m e:\n\u001b[1;32m    <a href='file:///usr/local/lib/python3.8/dist-packages/imageio/plugins/pillow_legacy.py?line=655'>656</a>\u001b[0m         site \u001b[39m=\u001b[39m \u001b[39m\"\u001b[39m\u001b[39mhttp://pillow.readthedocs.io/en/latest/installation.html\u001b[39m\u001b[39m\"\u001b[39m\n",
      "File \u001b[0;32m/usr/local/lib/python3.8/dist-packages/PIL/Image.py:1294\u001b[0m, in \u001b[0;36mImage.getdata\u001b[0;34m(self, band)\u001b[0m\n\u001b[1;32m   <a href='file:///usr/local/lib/python3.8/dist-packages/PIL/Image.py?line=1275'>1276</a>\u001b[0m \u001b[39mdef\u001b[39;00m \u001b[39mgetdata\u001b[39m(\u001b[39mself\u001b[39m, band\u001b[39m=\u001b[39m\u001b[39mNone\u001b[39;00m):\n\u001b[1;32m   <a href='file:///usr/local/lib/python3.8/dist-packages/PIL/Image.py?line=1276'>1277</a>\u001b[0m     \u001b[39m\"\"\"\u001b[39;00m\n\u001b[1;32m   <a href='file:///usr/local/lib/python3.8/dist-packages/PIL/Image.py?line=1277'>1278</a>\u001b[0m \u001b[39m    Returns the contents of this image as a sequence object\u001b[39;00m\n\u001b[1;32m   <a href='file:///usr/local/lib/python3.8/dist-packages/PIL/Image.py?line=1278'>1279</a>\u001b[0m \u001b[39m    containing pixel values.  The sequence object is flattened, so\u001b[39;00m\n\u001b[0;32m   (...)\u001b[0m\n\u001b[1;32m   <a href='file:///usr/local/lib/python3.8/dist-packages/PIL/Image.py?line=1290'>1291</a>\u001b[0m \u001b[39m    :returns: A sequence-like object.\u001b[39;00m\n\u001b[1;32m   <a href='file:///usr/local/lib/python3.8/dist-packages/PIL/Image.py?line=1291'>1292</a>\u001b[0m \u001b[39m    \"\"\"\u001b[39;00m\n\u001b[0;32m-> <a href='file:///usr/local/lib/python3.8/dist-packages/PIL/Image.py?line=1293'>1294</a>\u001b[0m     \u001b[39mself\u001b[39;49m\u001b[39m.\u001b[39;49mload()\n\u001b[1;32m   <a href='file:///usr/local/lib/python3.8/dist-packages/PIL/Image.py?line=1294'>1295</a>\u001b[0m     \u001b[39mif\u001b[39;00m band \u001b[39mis\u001b[39;00m \u001b[39mnot\u001b[39;00m \u001b[39mNone\u001b[39;00m:\n\u001b[1;32m   <a href='file:///usr/local/lib/python3.8/dist-packages/PIL/Image.py?line=1295'>1296</a>\u001b[0m         \u001b[39mreturn\u001b[39;00m \u001b[39mself\u001b[39m\u001b[39m.\u001b[39mim\u001b[39m.\u001b[39mgetband(band)\n",
      "File \u001b[0;32m/usr/local/lib/python3.8/dist-packages/PIL/ImageFile.py:253\u001b[0m, in \u001b[0;36mImageFile.load\u001b[0;34m(self)\u001b[0m\n\u001b[1;32m    <a href='file:///usr/local/lib/python3.8/dist-packages/PIL/ImageFile.py?line=246'>247</a>\u001b[0m         \u001b[39mraise\u001b[39;00m \u001b[39mOSError\u001b[39;00m(\n\u001b[1;32m    <a href='file:///usr/local/lib/python3.8/dist-packages/PIL/ImageFile.py?line=247'>248</a>\u001b[0m             \u001b[39m\"\u001b[39m\u001b[39mimage file is truncated \u001b[39m\u001b[39m\"\u001b[39m\n\u001b[1;32m    <a href='file:///usr/local/lib/python3.8/dist-packages/PIL/ImageFile.py?line=248'>249</a>\u001b[0m             \u001b[39mf\u001b[39m\u001b[39m\"\u001b[39m\u001b[39m(\u001b[39m\u001b[39m{\u001b[39;00m\u001b[39mlen\u001b[39m(b)\u001b[39m}\u001b[39;00m\u001b[39m bytes not processed)\u001b[39m\u001b[39m\"\u001b[39m\n\u001b[1;32m    <a href='file:///usr/local/lib/python3.8/dist-packages/PIL/ImageFile.py?line=249'>250</a>\u001b[0m         )\n\u001b[1;32m    <a href='file:///usr/local/lib/python3.8/dist-packages/PIL/ImageFile.py?line=251'>252</a>\u001b[0m b \u001b[39m=\u001b[39m b \u001b[39m+\u001b[39m s\n\u001b[0;32m--> <a href='file:///usr/local/lib/python3.8/dist-packages/PIL/ImageFile.py?line=252'>253</a>\u001b[0m n, err_code \u001b[39m=\u001b[39m decoder\u001b[39m.\u001b[39;49mdecode(b)\n\u001b[1;32m    <a href='file:///usr/local/lib/python3.8/dist-packages/PIL/ImageFile.py?line=253'>254</a>\u001b[0m \u001b[39mif\u001b[39;00m n \u001b[39m<\u001b[39m \u001b[39m0\u001b[39m:\n\u001b[1;32m    <a href='file:///usr/local/lib/python3.8/dist-packages/PIL/ImageFile.py?line=254'>255</a>\u001b[0m     \u001b[39mbreak\u001b[39;00m\n",
      "\u001b[0;31mKeyboardInterrupt\u001b[0m: "
     ]
    }
   ],
   "source": [
    "#ds.set_buffer_size(1024)\n",
    "nn.train_model(ds, shuffle=True, gpu=False)\n"
   ]
  },
  {
   "cell_type": "markdown",
   "metadata": {},
   "source": [
    "### Saving some weights\n",
    "\n",
    "You can use the util methods save/load weights to save or load individual model layer weights or the whole model weights,\n",
    "so you can try different kinds of training.\n",
    "\n",
    "You can also freeze/unfreeze layers, prevent them from being trained, by using the freeze_layer() unfreeze_layer() methods."
   ]
  },
  {
   "cell_type": "code",
   "execution_count": null,
   "metadata": {},
   "outputs": [],
   "source": [
    "\n",
    "#nn.save_layer_weights(0, \"eye_classification_net_full_resnet18.w\")\n",
    "#nn.save_weights(\"eye_classification_net_full.w\")\n"
   ]
  },
  {
   "cell_type": "markdown",
   "metadata": {},
   "source": [
    "### Testing the model\n",
    "\n",
    "Testing the model is similar to training it. All we have to do is to call test_model() passing a EyeImageDataset object pointing to the test dataset images. \n",
    "\n",
    "If you're having I/O constraints, you can use the set_buffer_size(n) method to cache n images in memory. Be aware that you cant use it\n",
    "along with shuffle, because the cache will be constantly invalidated, unless you have a lot of memory and cache all of the images."
   ]
  },
  {
   "cell_type": "code",
   "execution_count": null,
   "metadata": {},
   "outputs": [],
   "source": [
    "input_size = 224\n",
    "\n",
    "apply_transforms = transforms.Compose([\n",
    "    transforms.Resize(size=input_size),\n",
    "    transforms.CenterCrop(size=input_size),\n",
    "    transforms.ToTensor(),\n",
    "    transforms.Normalize([0.485, 0.456, 0.406], [0.229, 0.224, 0.225])\n",
    "])\n",
    "\n",
    "ds = EyeImageDataset(root=image_dir_testing, data_info_csv_file=csv_file, transform=apply_transforms)\n"
   ]
  },
  {
   "cell_type": "code",
   "execution_count": null,
   "metadata": {},
   "outputs": [
    {
     "name": "stdout",
     "output_type": "stream",
     "text": [
      "testing 1% [4 / 6564 files]\n",
      "testing 2% [72 / 6564 files]\n",
      "testing 3% [140 / 6564 files]\n",
      "testing 4% [208 / 6564 files]\n",
      "testing 5% [276 / 6564 files]\n",
      "testing 6% [344 / 6564 files]\n",
      "testing 7% [412 / 6564 files]\n",
      "testing 8% [480 / 6564 files]\n",
      "testing 9% [548 / 6564 files]\n",
      "testing 10% [616 / 6564 files]\n",
      "testing 11% [684 / 6564 files]\n",
      "testing 12% [752 / 6564 files]\n",
      "testing 13% [820 / 6564 files]\n",
      "testing 14% [888 / 6564 files]\n",
      "testing 15% [956 / 6564 files]\n",
      "testing 16% [1024 / 6564 files]\n",
      "testing 17% [1092 / 6564 files]\n",
      "testing 18% [1160 / 6564 files]\n",
      "testing 19% [1228 / 6564 files]\n",
      "testing 20% [1296 / 6564 files]\n",
      "testing 21% [1364 / 6564 files]\n",
      "testing 22% [1432 / 6564 files]\n",
      "testing 23% [1500 / 6564 files]\n",
      "testing 24% [1568 / 6564 files]\n",
      "testing 25% [1636 / 6564 files]\n",
      "testing 26% [1704 / 6564 files]\n",
      "testing 27% [1772 / 6564 files]\n",
      "testing 28% [1840 / 6564 files]\n",
      "testing 29% [1908 / 6564 files]\n",
      "testing 30% [1976 / 6564 files]\n",
      "testing 31% [2044 / 6564 files]\n",
      "testing 32% [2112 / 6564 files]\n",
      "testing 33% [2180 / 6564 files]\n",
      "testing 34% [2248 / 6564 files]\n",
      "testing 35% [2316 / 6564 files]\n",
      "testing 36% [2384 / 6564 files]\n",
      "testing 37% [2452 / 6564 files]\n",
      "testing 38% [2520 / 6564 files]\n",
      "testing 39% [2588 / 6564 files]\n",
      "testing 40% [2656 / 6564 files]\n",
      "testing 41% [2724 / 6564 files]\n",
      "testing 42% [2792 / 6564 files]\n",
      "testing 43% [2860 / 6564 files]\n",
      "testing 44% [2928 / 6564 files]\n",
      "testing 45% [2996 / 6564 files]\n",
      "testing 46% [3064 / 6564 files]\n",
      "testing 47% [3132 / 6564 files]\n",
      "testing 48% [3200 / 6564 files]\n",
      "testing 49% [3268 / 6564 files]\n",
      "testing 50% [3336 / 6564 files]\n",
      "testing 51% [3404 / 6564 files]\n",
      "testing 52% [3472 / 6564 files]\n",
      "testing 53% [3540 / 6564 files]\n",
      "testing 54% [3608 / 6564 files]\n",
      "testing 55% [3676 / 6564 files]\n",
      "testing 56% [3744 / 6564 files]\n",
      "testing 57% [3812 / 6564 files]\n",
      "testing 58% [3880 / 6564 files]\n",
      "testing 59% [3948 / 6564 files]\n",
      "testing 60% [4016 / 6564 files]\n",
      "testing 61% [4084 / 6564 files]\n",
      "testing 62% [4152 / 6564 files]\n",
      "testing 63% [4220 / 6564 files]\n",
      "testing 64% [4288 / 6564 files]\n",
      "testing 65% [4356 / 6564 files]\n",
      "testing 66% [4424 / 6564 files]\n",
      "testing 67% [4492 / 6564 files]\n",
      "testing 68% [4560 / 6564 files]\n",
      "testing 69% [4628 / 6564 files]\n",
      "testing 70% [4696 / 6564 files]\n",
      "testing 71% [4764 / 6564 files]\n",
      "testing 72% [4832 / 6564 files]\n",
      "testing 73% [4900 / 6564 files]\n",
      "testing 74% [4968 / 6564 files]\n",
      "testing 75% [5036 / 6564 files]\n",
      "testing 76% [5104 / 6564 files]\n",
      "testing 77% [5172 / 6564 files]\n",
      "testing 78% [5240 / 6564 files]\n",
      "testing 79% [5308 / 6564 files]\n",
      "testing 80% [5376 / 6564 files]\n",
      "testing 81% [5444 / 6564 files]\n",
      "testing 82% [5512 / 6564 files]\n",
      "testing 83% [5580 / 6564 files]\n",
      "testing 84% [5648 / 6564 files]\n",
      "testing 85% [5716 / 6564 files]\n",
      "testing 86% [5784 / 6564 files]\n",
      "testing 87% [5852 / 6564 files]\n",
      "testing 88% [5920 / 6564 files]\n",
      "testing 89% [5988 / 6564 files]\n",
      "testing 90% [6056 / 6564 files]\n",
      "testing 91% [6124 / 6564 files]\n",
      "testing 92% [6192 / 6564 files]\n",
      "testing 93% [6260 / 6564 files]\n",
      "testing 94% [6328 / 6564 files]\n",
      "testing 95% [6396 / 6564 files]\n",
      "testing 96% [6464 / 6564 files]\n",
      "testing 97% [6532 / 6564 files]\n",
      "accuracy: 82.48% [43310/52512]\n",
      "\t - Normal: 92.34% [6061/6564]\n",
      "\t - Diabetes: 83.87% [5505/6564]\n",
      "\t - Glaucoma: 74.56% [4894/6564]\n",
      "\t - Cataract: 90.40% [5934/6564]\n",
      "\t - AgeRelatedMacularDegeneration: 83.68% [5493/6564]\n",
      "\t - Hypertension: 74.73% [4905/6564]\n",
      "\t - PathologicalMyopia: 92.00% [6039/6564]\n",
      "\t - Other: 68.24% [4479/6564]\n"
     ]
    }
   ],
   "source": [
    "ds.set_buffer_size(16)\n",
    "nn.test_model(ds, gpu=False)"
   ]
  }
 ],
 "metadata": {
  "interpreter": {
   "hash": "31f2aee4e71d21fbe5cf8b01ff0e069b9275f58929596ceb00d14d90e3e16cd6"
  },
  "kernelspec": {
   "display_name": "Python 3.8.10 64-bit",
   "language": "python",
   "name": "python3"
  },
  "language_info": {
   "codemirror_mode": {
    "name": "ipython",
    "version": 3
   },
   "file_extension": ".py",
   "mimetype": "text/x-python",
   "name": "python",
   "nbconvert_exporter": "python",
   "pygments_lexer": "ipython3",
   "version": "3.8.10"
  },
  "orig_nbformat": 4
 },
 "nbformat": 4,
 "nbformat_minor": 2
}
