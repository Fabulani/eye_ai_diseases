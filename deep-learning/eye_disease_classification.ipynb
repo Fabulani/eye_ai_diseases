{
 "cells": [
  {
   "cell_type": "code",
   "execution_count": 31,
   "metadata": {},
   "outputs": [],
   "source": [
    "from io import StringIO\n",
    "from xmlrpc.client import Boolean\n",
    "import torch\n",
    "import torch.nn as nn\n",
    "import torch.nn.functional as F\n",
    "from torchvision.datasets import VisionDataset\n",
    "from torch.utils.data import Dataset, DataLoader\n",
    "from enum import Enum, IntEnum, unique, auto\n",
    "from typing import Tuple, List, Union, Any, Optional, Callable\n",
    "import pandas as pd\n",
    "import numpy as np\n",
    "import functools\n",
    "import skimage.io as io\n",
    "from skimage import data, color\n",
    "from skimage.transform import rescale, resize, downscale_local_mean\n",
    "from skimage.filters import threshold_mean, sobel\n",
    "from skimage.color import rgb2gray\n",
    "from skimage import feature\n",
    "import os.path as ospath\n",
    "from PIL import Image\n",
    "\n",
    "from eye_classifier import *"
   ]
  },
  {
   "cell_type": "code",
   "execution_count": 32,
   "metadata": {},
   "outputs": [],
   "source": [
    "@unique\n",
    "class TargetType(IntEnum):\n",
    "    Normal = 0,\n",
    "    Diabetes = 1,\n",
    "    Glaucoma = 2,\n",
    "    Cataract = 3,\n",
    "    AgeRelatedMacularDegeneration = 4,\n",
    "    Hypertension = 5,\n",
    "    PathologicalMyopia = 6,\n",
    "    Other = 7\n",
    "\n",
    "class ImageDataset (VisionDataset):\n",
    "    files = []\n",
    "    data = None\n",
    "    classes = []\n",
    "    targets = []\n",
    "\n",
    "    def __init__(self, root: str, transform: Optional[Callable] = None,\n",
    "            target_transform: Optional[Callable] = None) -> None:\n",
    "\n",
    "        super(ImageDataset, self).__init__(root, transform=transform, target_transform=target_transform)\n",
    "        \n",
    "    def __len__(self) -> int:\n",
    "        return len(self.data)\n",
    "\n",
    "    def __getitem__(self, index: int) -> Tuple[Any, Any]:           \n",
    "            img, target = self.data[index], self.targets[index]\n",
    "\n",
    "            # doing this so that it is consistent with all other datasets\n",
    "            # to return a PIL Image\n",
    "            img = Image.fromarray(img)\n",
    "\n",
    "            if self.transform is not None:\n",
    "                img = self.transform(img)\n",
    "\n",
    "            if self.target_transform is not None:\n",
    "                target = self.target_transform(target)\n",
    "\n",
    "            return img, target\n",
    "\n",
    "\n",
    "def read_images(base_dir: str, image_path: str, data_info_csv_file: str) -> ImageDataset:\n",
    "    dataset = ImageDataset(base_dir)\n",
    "    dataset.classes = [e.name for e in TargetType]\n",
    "\n",
    "    data = []\n",
    "    limit = 10\n",
    "    for idx, row in pd.read_csv(data_info_csv_file).iterrows():\n",
    "        left_file = f\"{image_path}/{row['Left-Fundus']}\"\n",
    "        right_file = f\"{image_path}/{row['Right-Fundus']}\"\n",
    "        \n",
    "        if (limit == 0): break\n",
    "        limit -= 1\n",
    "\n",
    "        if ospath.exists(left_file):\n",
    "            dataset.files.append(left_file)\n",
    "            data.append(io.imread(left_file))\n",
    "            \n",
    "        if ospath.exists(right_file):\n",
    "            dataset.files.append(right_file)\n",
    "            data.append(io.imread(right_file))\n",
    "        \n",
    "        if row['N'] == 1:\n",
    "            dataset.targets.append(int(TargetType.Normal))\n",
    "        elif row['D'] == 1:\n",
    "            dataset.targets.append(int(TargetType.Diabetes))\n",
    "        elif row['G'] == 1:\n",
    "            dataset.targets.append(int(TargetType.Glaucoma))\n",
    "        elif row['C'] == 1:\n",
    "            dataset.targets.append(int(TargetType.Cataract))\n",
    "        elif row['A'] == 1:\n",
    "            dataset.targets.append(int(TargetType.AgeRelatedMacularDegeneration))\n",
    "        elif row['H'] == 1:\n",
    "            dataset.targets.append(int(TargetType.Hypertension))\n",
    "        elif row['M'] == 1:\n",
    "            dataset.targets.append(int(TargetType.PathologicalMyopia))\n",
    "        else:\n",
    "            dataset.targets.append(int(TargetType.Other))\n",
    "    \n",
    "\n",
    "    dataset.data = np.asarray(data, dtype=np.uint8)\n",
    "    return dataset\n"
   ]
  },
  {
   "cell_type": "code",
   "execution_count": 39,
   "metadata": {},
   "outputs": [],
   "source": [
    "base_dir = \"../../data\"\n",
    "image_dir = f\"{base_dir}/preprocessed_images\"\n",
    "csv_file = f'{base_dir}/ODIR-5K/data.csv'\n",
    "\n",
    "ds = read_images(base_dir, image_path=image_dir, data_info_csv_file=csv_file)\n"
   ]
  },
  {
   "cell_type": "code",
   "execution_count": 38,
   "metadata": {},
   "outputs": [
    {
     "ename": "IndexError",
     "evalue": "list index out of range",
     "output_type": "error",
     "traceback": [
      "\u001b[0;31m---------------------------------------------------------------------------\u001b[0m",
      "\u001b[0;31mIndexError\u001b[0m                                Traceback (most recent call last)",
      "\u001b[1;32m/workspaces/VisaoComputacional/trabalho-final/src/deep-learning/eye_disease_classification.ipynb Cell 4'\u001b[0m in \u001b[0;36m<cell line: 6>\u001b[0;34m()\u001b[0m\n\u001b[1;32m      <a href='vscode-notebook-cell://dev-container%2B2f686f6d652f637269737469616e6f2f446f63756d656e74732f50726f6a656374732f4d6573747261646f2f566973616f436f6d7075746163696f6e616c/workspaces/VisaoComputacional/trabalho-final/src/deep-learning/eye_disease_classification.ipynb#ch0000002vscode-remote?line=0'>1</a>\u001b[0m \u001b[39m#nn = EyeClassifier([512, 512, 3])\u001b[39;00m\n\u001b[1;32m      <a href='vscode-notebook-cell://dev-container%2B2f686f6d652f637269737469616e6f2f446f63756d656e74732f50726f6a656374732f4d6573747261646f2f566973616f436f6d7075746163696f6e616c/workspaces/VisaoComputacional/trabalho-final/src/deep-learning/eye_disease_classification.ipynb#ch0000002vscode-remote?line=1'>2</a>\u001b[0m \u001b[39m#nn.train(ds)\u001b[39;00m\n\u001b[1;32m      <a href='vscode-notebook-cell://dev-container%2B2f686f6d652f637269737469616e6f2f446f63756d656e74732f50726f6a656374732f4d6573747261646f2f566973616f436f6d7075746163696f6e616c/workspaces/VisaoComputacional/trabalho-final/src/deep-learning/eye_disease_classification.ipynb#ch0000002vscode-remote?line=4'>5</a>\u001b[0m train_loader \u001b[39m=\u001b[39m DataLoader(ds, batch_size\u001b[39m=\u001b[39m\u001b[39m4\u001b[39m, shuffle\u001b[39m=\u001b[39m\u001b[39mTrue\u001b[39;00m)\n\u001b[0;32m----> <a href='vscode-notebook-cell://dev-container%2B2f686f6d652f637269737469616e6f2f446f63756d656e74732f50726f6a656374732f4d6573747261646f2f566973616f436f6d7075746163696f6e616c/workspaces/VisaoComputacional/trabalho-final/src/deep-learning/eye_disease_classification.ipynb#ch0000002vscode-remote?line=5'>6</a>\u001b[0m \u001b[39mfor\u001b[39;00m i,j \u001b[39min\u001b[39;00m \u001b[39menumerate\u001b[39m(train_loader):\n\u001b[1;32m      <a href='vscode-notebook-cell://dev-container%2B2f686f6d652f637269737469616e6f2f446f63756d656e74732f50726f6a656374732f4d6573747261646f2f566973616f436f6d7075746163696f6e616c/workspaces/VisaoComputacional/trabalho-final/src/deep-learning/eye_disease_classification.ipynb#ch0000002vscode-remote?line=6'>7</a>\u001b[0m     k \u001b[39m=\u001b[39m \u001b[39m0\u001b[39m\n",
      "File \u001b[0;32m/usr/local/lib/python3.8/dist-packages/torch/utils/data/dataloader.py:521\u001b[0m, in \u001b[0;36m_BaseDataLoaderIter.__next__\u001b[0;34m(self)\u001b[0m\n\u001b[1;32m    <a href='file:///usr/local/lib/python3.8/dist-packages/torch/utils/data/dataloader.py?line=518'>519</a>\u001b[0m \u001b[39mif\u001b[39;00m \u001b[39mself\u001b[39m\u001b[39m.\u001b[39m_sampler_iter \u001b[39mis\u001b[39;00m \u001b[39mNone\u001b[39;00m:\n\u001b[1;32m    <a href='file:///usr/local/lib/python3.8/dist-packages/torch/utils/data/dataloader.py?line=519'>520</a>\u001b[0m     \u001b[39mself\u001b[39m\u001b[39m.\u001b[39m_reset()\n\u001b[0;32m--> <a href='file:///usr/local/lib/python3.8/dist-packages/torch/utils/data/dataloader.py?line=520'>521</a>\u001b[0m data \u001b[39m=\u001b[39m \u001b[39mself\u001b[39;49m\u001b[39m.\u001b[39;49m_next_data()\n\u001b[1;32m    <a href='file:///usr/local/lib/python3.8/dist-packages/torch/utils/data/dataloader.py?line=521'>522</a>\u001b[0m \u001b[39mself\u001b[39m\u001b[39m.\u001b[39m_num_yielded \u001b[39m+\u001b[39m\u001b[39m=\u001b[39m \u001b[39m1\u001b[39m\n\u001b[1;32m    <a href='file:///usr/local/lib/python3.8/dist-packages/torch/utils/data/dataloader.py?line=522'>523</a>\u001b[0m \u001b[39mif\u001b[39;00m \u001b[39mself\u001b[39m\u001b[39m.\u001b[39m_dataset_kind \u001b[39m==\u001b[39m _DatasetKind\u001b[39m.\u001b[39mIterable \u001b[39mand\u001b[39;00m \\\n\u001b[1;32m    <a href='file:///usr/local/lib/python3.8/dist-packages/torch/utils/data/dataloader.py?line=523'>524</a>\u001b[0m         \u001b[39mself\u001b[39m\u001b[39m.\u001b[39m_IterableDataset_len_called \u001b[39mis\u001b[39;00m \u001b[39mnot\u001b[39;00m \u001b[39mNone\u001b[39;00m \u001b[39mand\u001b[39;00m \\\n\u001b[1;32m    <a href='file:///usr/local/lib/python3.8/dist-packages/torch/utils/data/dataloader.py?line=524'>525</a>\u001b[0m         \u001b[39mself\u001b[39m\u001b[39m.\u001b[39m_num_yielded \u001b[39m>\u001b[39m \u001b[39mself\u001b[39m\u001b[39m.\u001b[39m_IterableDataset_len_called:\n",
      "File \u001b[0;32m/usr/local/lib/python3.8/dist-packages/torch/utils/data/dataloader.py:561\u001b[0m, in \u001b[0;36m_SingleProcessDataLoaderIter._next_data\u001b[0;34m(self)\u001b[0m\n\u001b[1;32m    <a href='file:///usr/local/lib/python3.8/dist-packages/torch/utils/data/dataloader.py?line=558'>559</a>\u001b[0m \u001b[39mdef\u001b[39;00m \u001b[39m_next_data\u001b[39m(\u001b[39mself\u001b[39m):\n\u001b[1;32m    <a href='file:///usr/local/lib/python3.8/dist-packages/torch/utils/data/dataloader.py?line=559'>560</a>\u001b[0m     index \u001b[39m=\u001b[39m \u001b[39mself\u001b[39m\u001b[39m.\u001b[39m_next_index()  \u001b[39m# may raise StopIteration\u001b[39;00m\n\u001b[0;32m--> <a href='file:///usr/local/lib/python3.8/dist-packages/torch/utils/data/dataloader.py?line=560'>561</a>\u001b[0m     data \u001b[39m=\u001b[39m \u001b[39mself\u001b[39;49m\u001b[39m.\u001b[39;49m_dataset_fetcher\u001b[39m.\u001b[39;49mfetch(index)  \u001b[39m# may raise StopIteration\u001b[39;00m\n\u001b[1;32m    <a href='file:///usr/local/lib/python3.8/dist-packages/torch/utils/data/dataloader.py?line=561'>562</a>\u001b[0m     \u001b[39mif\u001b[39;00m \u001b[39mself\u001b[39m\u001b[39m.\u001b[39m_pin_memory:\n\u001b[1;32m    <a href='file:///usr/local/lib/python3.8/dist-packages/torch/utils/data/dataloader.py?line=562'>563</a>\u001b[0m         data \u001b[39m=\u001b[39m _utils\u001b[39m.\u001b[39mpin_memory\u001b[39m.\u001b[39mpin_memory(data)\n",
      "File \u001b[0;32m/usr/local/lib/python3.8/dist-packages/torch/utils/data/_utils/fetch.py:49\u001b[0m, in \u001b[0;36m_MapDatasetFetcher.fetch\u001b[0;34m(self, possibly_batched_index)\u001b[0m\n\u001b[1;32m     <a href='file:///usr/local/lib/python3.8/dist-packages/torch/utils/data/_utils/fetch.py?line=46'>47</a>\u001b[0m \u001b[39mdef\u001b[39;00m \u001b[39mfetch\u001b[39m(\u001b[39mself\u001b[39m, possibly_batched_index):\n\u001b[1;32m     <a href='file:///usr/local/lib/python3.8/dist-packages/torch/utils/data/_utils/fetch.py?line=47'>48</a>\u001b[0m     \u001b[39mif\u001b[39;00m \u001b[39mself\u001b[39m\u001b[39m.\u001b[39mauto_collation:\n\u001b[0;32m---> <a href='file:///usr/local/lib/python3.8/dist-packages/torch/utils/data/_utils/fetch.py?line=48'>49</a>\u001b[0m         data \u001b[39m=\u001b[39m [\u001b[39mself\u001b[39m\u001b[39m.\u001b[39mdataset[idx] \u001b[39mfor\u001b[39;00m idx \u001b[39min\u001b[39;00m possibly_batched_index]\n\u001b[1;32m     <a href='file:///usr/local/lib/python3.8/dist-packages/torch/utils/data/_utils/fetch.py?line=49'>50</a>\u001b[0m     \u001b[39melse\u001b[39;00m:\n\u001b[1;32m     <a href='file:///usr/local/lib/python3.8/dist-packages/torch/utils/data/_utils/fetch.py?line=50'>51</a>\u001b[0m         data \u001b[39m=\u001b[39m \u001b[39mself\u001b[39m\u001b[39m.\u001b[39mdataset[possibly_batched_index]\n",
      "File \u001b[0;32m/usr/local/lib/python3.8/dist-packages/torch/utils/data/_utils/fetch.py:49\u001b[0m, in \u001b[0;36m<listcomp>\u001b[0;34m(.0)\u001b[0m\n\u001b[1;32m     <a href='file:///usr/local/lib/python3.8/dist-packages/torch/utils/data/_utils/fetch.py?line=46'>47</a>\u001b[0m \u001b[39mdef\u001b[39;00m \u001b[39mfetch\u001b[39m(\u001b[39mself\u001b[39m, possibly_batched_index):\n\u001b[1;32m     <a href='file:///usr/local/lib/python3.8/dist-packages/torch/utils/data/_utils/fetch.py?line=47'>48</a>\u001b[0m     \u001b[39mif\u001b[39;00m \u001b[39mself\u001b[39m\u001b[39m.\u001b[39mauto_collation:\n\u001b[0;32m---> <a href='file:///usr/local/lib/python3.8/dist-packages/torch/utils/data/_utils/fetch.py?line=48'>49</a>\u001b[0m         data \u001b[39m=\u001b[39m [\u001b[39mself\u001b[39;49m\u001b[39m.\u001b[39;49mdataset[idx] \u001b[39mfor\u001b[39;00m idx \u001b[39min\u001b[39;00m possibly_batched_index]\n\u001b[1;32m     <a href='file:///usr/local/lib/python3.8/dist-packages/torch/utils/data/_utils/fetch.py?line=49'>50</a>\u001b[0m     \u001b[39melse\u001b[39;00m:\n\u001b[1;32m     <a href='file:///usr/local/lib/python3.8/dist-packages/torch/utils/data/_utils/fetch.py?line=50'>51</a>\u001b[0m         data \u001b[39m=\u001b[39m \u001b[39mself\u001b[39m\u001b[39m.\u001b[39mdataset[possibly_batched_index]\n",
      "\u001b[1;32m/workspaces/VisaoComputacional/trabalho-final/src/deep-learning/eye_disease_classification.ipynb Cell 2'\u001b[0m in \u001b[0;36mImageDataset.__getitem__\u001b[0;34m(self, index)\u001b[0m\n\u001b[1;32m     <a href='vscode-notebook-cell://dev-container%2B2f686f6d652f637269737469616e6f2f446f63756d656e74732f50726f6a656374732f4d6573747261646f2f566973616f436f6d7075746163696f6e616c/workspaces/VisaoComputacional/trabalho-final/src/deep-learning/eye_disease_classification.ipynb#ch0000001vscode-remote?line=25'>26</a>\u001b[0m \u001b[39mdef\u001b[39;00m \u001b[39m__getitem__\u001b[39m(\u001b[39mself\u001b[39m, index: \u001b[39mint\u001b[39m) \u001b[39m-\u001b[39m\u001b[39m>\u001b[39m Tuple[Any, Any]:           \n\u001b[0;32m---> <a href='vscode-notebook-cell://dev-container%2B2f686f6d652f637269737469616e6f2f446f63756d656e74732f50726f6a656374732f4d6573747261646f2f566973616f436f6d7075746163696f6e616c/workspaces/VisaoComputacional/trabalho-final/src/deep-learning/eye_disease_classification.ipynb#ch0000001vscode-remote?line=26'>27</a>\u001b[0m         img, target \u001b[39m=\u001b[39m \u001b[39mself\u001b[39m\u001b[39m.\u001b[39mdata[index], \u001b[39mself\u001b[39;49m\u001b[39m.\u001b[39;49mtargets[index]\n\u001b[1;32m     <a href='vscode-notebook-cell://dev-container%2B2f686f6d652f637269737469616e6f2f446f63756d656e74732f50726f6a656374732f4d6573747261646f2f566973616f436f6d7075746163696f6e616c/workspaces/VisaoComputacional/trabalho-final/src/deep-learning/eye_disease_classification.ipynb#ch0000001vscode-remote?line=28'>29</a>\u001b[0m         \u001b[39m# doing this so that it is consistent with all other datasets\u001b[39;00m\n\u001b[1;32m     <a href='vscode-notebook-cell://dev-container%2B2f686f6d652f637269737469616e6f2f446f63756d656e74732f50726f6a656374732f4d6573747261646f2f566973616f436f6d7075746163696f6e616c/workspaces/VisaoComputacional/trabalho-final/src/deep-learning/eye_disease_classification.ipynb#ch0000001vscode-remote?line=29'>30</a>\u001b[0m         \u001b[39m# to return a PIL Image\u001b[39;00m\n\u001b[1;32m     <a href='vscode-notebook-cell://dev-container%2B2f686f6d652f637269737469616e6f2f446f63756d656e74732f50726f6a656374732f4d6573747261646f2f566973616f436f6d7075746163696f6e616c/workspaces/VisaoComputacional/trabalho-final/src/deep-learning/eye_disease_classification.ipynb#ch0000001vscode-remote?line=30'>31</a>\u001b[0m         img \u001b[39m=\u001b[39m Image\u001b[39m.\u001b[39mfromarray(img)\n",
      "\u001b[0;31mIndexError\u001b[0m: list index out of range"
     ]
    }
   ],
   "source": [
    "#nn = EyeClassifier([512, 512, 3])\n",
    "#nn.train(ds)\n",
    "\n",
    "\n",
    "train_loader = DataLoader(ds, batch_size=4, shuffle=True)\n",
    "for i,j in enumerate(train_loader):\n",
    "    k = 0"
   ]
  },
  {
   "cell_type": "code",
   "execution_count": null,
   "metadata": {},
   "outputs": [],
   "source": [
    "ds.data.shape"
   ]
  }
 ],
 "metadata": {
  "interpreter": {
   "hash": "31f2aee4e71d21fbe5cf8b01ff0e069b9275f58929596ceb00d14d90e3e16cd6"
  },
  "kernelspec": {
   "display_name": "Python 3.8.10 64-bit",
   "language": "python",
   "name": "python3"
  },
  "language_info": {
   "codemirror_mode": {
    "name": "ipython",
    "version": 3
   },
   "file_extension": ".py",
   "mimetype": "text/x-python",
   "name": "python",
   "nbconvert_exporter": "python",
   "pygments_lexer": "ipython3",
   "version": "3.8.10"
  },
  "orig_nbformat": 4
 },
 "nbformat": 4,
 "nbformat_minor": 2
}
