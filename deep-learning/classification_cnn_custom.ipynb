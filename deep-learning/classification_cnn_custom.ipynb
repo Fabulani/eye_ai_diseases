{
 "cells": [
  {
   "cell_type": "code",
   "execution_count": 1,
   "metadata": {},
   "outputs": [],
   "source": [
    "import sys\n",
    "sys.path.insert(0, '..')\n",
    "\n",
    "import torch.nn as nn\n",
    "from torch.utils.data import DataLoader\n",
    "from utils.eye_dataset import *\n",
    "from eye_classifier import *\n",
    "import torchvision.transforms as transforms"
   ]
  },
  {
   "cell_type": "code",
   "execution_count": 2,
   "metadata": {},
   "outputs": [
    {
     "name": "stdout",
     "output_type": "stream",
     "text": [
      "reading input dataset\n"
     ]
    }
   ],
   "source": [
    "base_dir = \"../../data\"\n",
    "image_dir_training = f\"{base_dir}/ODIR-5K/training\"\n",
    "image_dir_testing = f\"{base_dir}/ODIR-5K/testing\"\n",
    "csv_file = f'{base_dir}/ODIR-5K/data.csv'\n",
    "\n",
    "input_size = 512\n",
    "\n",
    "print ('reading input dataset')\n",
    "apply_transforms = transforms.Compose([\n",
    "    transforms.Resize(size=input_size),\n",
    "    transforms.CenterCrop(size=input_size),\n",
    "    transforms.ToTensor(),\n",
    "    transforms.Normalize([0.485, 0.456, 0.406], [0.229, 0.224, 0.225])\n",
    "])\n",
    "\n",
    "ds = EyeImageDataset(root=image_dir_training, data_info_csv_file=csv_file, transform=apply_transforms)\n",
    "train_loader = DataLoader(ds, batch_size=4, shuffle=True)\n"
   ]
  },
  {
   "cell_type": "markdown",
   "metadata": {},
   "source": [
    "Building the model"
   ]
  },
  {
   "cell_type": "code",
   "execution_count": 3,
   "metadata": {},
   "outputs": [
    {
     "name": "stdout",
     "output_type": "stream",
     "text": [
      "CustomEyeClassifier(\n",
      "  (layer 1): Conv2d(3, 6, kernel_size=(5, 5), stride=(2, 2))\n",
      "  (layer 2): MaxPool2d(kernel_size=(5, 5), stride=(2, 2), padding=(0, 0), dilation=(1, 1), ceil_mode=False)\n",
      "  (layer 3): Dropout(p=0.5, inplace=False)\n",
      "  (layer 4): Conv2d(6, 16, kernel_size=(5, 5), stride=(2, 2))\n",
      "  (layer 5): MaxPool2d(kernel_size=(5, 5), stride=(2, 2), padding=(0, 0), dilation=(1, 1), ceil_mode=False)\n",
      "  (layer 6): Dropout(p=0.5, inplace=False)\n",
      "  (layer 7): Linear(in_features=13456, out_features=84, bias=True)\n",
      "  (layer 8): Linear(in_features=84, out_features=42, bias=True)\n",
      "  (layer 9): Linear(in_features=42, out_features=8, bias=True)\n",
      ")\n"
     ]
    }
   ],
   "source": [
    "class CustomEyeClassifier(EyeClassifier):\n",
    "    def __init__(self, num_classes: int) -> None:\n",
    "        super(CustomEyeClassifier, self).__init__(model=[\n",
    "\n",
    "            (nn.Conv2d(in_channels=3, out_channels=6,\n",
    "                       kernel_size=(5, 5), stride=(2, 2), padding=(0, 0), dilation=(1, 1)),\n",
    "             TransferFunction.NotApplicable),\n",
    "\n",
    "            (nn.MaxPool2d(\n",
    "                kernel_size=(5, 5), stride=(2, 2), padding=(0, 0), dilation=(1, 1)),\n",
    "             TransferFunction.NotApplicable),\n",
    "\n",
    "            (nn.Dropout(),\n",
    "             TransferFunction.NotApplicable),\n",
    "\n",
    "            (nn.Conv2d(in_channels=6, out_channels=16,\n",
    "                       kernel_size=(5, 5), stride=(2, 2), padding=(0, 0), dilation=(1, 1)),\n",
    "             TransferFunction.NotApplicable),\n",
    "\n",
    "            (nn.MaxPool2d(\n",
    "                kernel_size=(5, 5), stride=(2, 2), padding=(0, 0), dilation=(1, 1)),\n",
    "             TransferFunction.NotApplicable),\n",
    "\n",
    "            (nn.Dropout(),\n",
    "             TransferFunction.NotApplicable),\n",
    "\n",
    "            (nn.Linear(in_features=13456, out_features=84),\n",
    "             TransferFunction.Relu),\n",
    "\n",
    "            (nn.Linear(in_features=84, out_features=42),\n",
    "             TransferFunction.Relu),\n",
    "\n",
    "            (nn.Linear(in_features=42, out_features=num_classes),\n",
    "             TransferFunction.NotApplicable),\n",
    "        ])\n",
    "\n",
    "nn = CustomEyeClassifier(num_classes=len(ds.classes))\n",
    "print(nn)"
   ]
  },
  {
   "cell_type": "markdown",
   "metadata": {},
   "source": [
    "Training the model"
   ]
  },
  {
   "cell_type": "code",
   "execution_count": 4,
   "metadata": {},
   "outputs": [
    {
     "name": "stdout",
     "output_type": "stream",
     "text": [
      "training (1%) epoch 1/100, loss = 2.6104\n",
      "training (2%) epoch 2/100, loss = 1.7469\n",
      "training (3%) epoch 3/100, loss = 1.7995\n",
      "training (4%) epoch 4/100, loss = 2.1684\n",
      "training (5%) epoch 5/100, loss = 1.0854\n",
      "training (6%) epoch 6/100, loss = 1.1470\n",
      "training (7%) epoch 7/100, loss = 0.8077\n",
      "training (8%) epoch 8/100, loss = 2.1153\n",
      "training (9%) epoch 9/100, loss = 1.5670\n",
      "training (10%) epoch 10/100, loss = 0.8468\n",
      "training (11%) epoch 11/100, loss = 1.0097\n",
      "training (12%) epoch 12/100, loss = 3.6972\n",
      "training (13%) epoch 13/100, loss = 1.8472\n",
      "training (14%) epoch 14/100, loss = 1.6781\n",
      "training (15%) epoch 15/100, loss = 1.3144\n",
      "training (16%) epoch 16/100, loss = 1.1918\n",
      "training (17%) epoch 17/100, loss = 0.7174\n",
      "training (18%) epoch 18/100, loss = 1.7985\n",
      "training (19%) epoch 19/100, loss = 1.5440\n",
      "training (20%) epoch 20/100, loss = 2.2547\n",
      "training (21%) epoch 21/100, loss = 1.2940\n",
      "training (22%) epoch 22/100, loss = 2.7675\n",
      "training (23%) epoch 23/100, loss = 0.6979\n",
      "training (24%) epoch 24/100, loss = 1.1212\n",
      "training (25%) epoch 25/100, loss = 1.9361\n",
      "training (26%) epoch 26/100, loss = 1.5050\n",
      "training (27%) epoch 27/100, loss = 1.0292\n",
      "training (28%) epoch 28/100, loss = 1.2429\n",
      "training (29%) epoch 29/100, loss = 0.9756\n",
      "training (30%) epoch 30/100, loss = 2.4854\n",
      "training (31%) epoch 31/100, loss = 1.0813\n",
      "training (32%) epoch 32/100, loss = 1.8026\n",
      "training (33%) epoch 33/100, loss = 1.3542\n",
      "training (34%) epoch 34/100, loss = 1.4005\n",
      "training (35%) epoch 35/100, loss = 1.2128\n",
      "training (36%) epoch 36/100, loss = 1.3629\n",
      "training (37%) epoch 37/100, loss = 2.3556\n",
      "training (38%) epoch 38/100, loss = 0.8988\n",
      "training (39%) epoch 39/100, loss = 1.2444\n"
     ]
    },
    {
     "ename": "KeyboardInterrupt",
     "evalue": "",
     "output_type": "error",
     "traceback": [
      "\u001b[0;31m---------------------------------------------------------------------------\u001b[0m",
      "\u001b[0;31mKeyboardInterrupt\u001b[0m                         Traceback (most recent call last)",
      "\u001b[1;32m/workspaces/VisaoComputacional/trabalho-final/src/deep-learning/eye_disease_classification_custom.ipynb Cell 6'\u001b[0m in \u001b[0;36m<cell line: 1>\u001b[0;34m()\u001b[0m\n\u001b[0;32m----> <a href='vscode-notebook-cell://dev-container%2B2f686f6d652f637269737469616e6f2f446f63756d656e74732f50726f6a656374732f4d6573747261646f2f566973616f436f6d7075746163696f6e616c/workspaces/VisaoComputacional/trabalho-final/src/deep-learning/eye_disease_classification_custom.ipynb#ch0000005vscode-remote?line=0'>1</a>\u001b[0m nn\u001b[39m.\u001b[39;49mtrain(ds, gpu\u001b[39m=\u001b[39;49m\u001b[39mFalse\u001b[39;49;00m)\n",
      "File \u001b[0;32m/workspaces/VisaoComputacional/trabalho-final/src/deep-learning/eye_classifier.py:96\u001b[0m, in \u001b[0;36mEyeClassifier.train\u001b[0;34m(self, dataset, num_epochs, batch_size, learning_rate, gpu, verbose)\u001b[0m\n\u001b[1;32m     <a href='file:///workspaces/VisaoComputacional/trabalho-final/src/deep-learning/eye_classifier.py?line=92'>93</a>\u001b[0m train_percent_pos \u001b[39m=\u001b[39m \u001b[39m0\u001b[39m\n\u001b[1;32m     <a href='file:///workspaces/VisaoComputacional/trabalho-final/src/deep-learning/eye_classifier.py?line=94'>95</a>\u001b[0m \u001b[39mfor\u001b[39;00m epoch \u001b[39min\u001b[39;00m \u001b[39mrange\u001b[39m(num_epochs):\n\u001b[0;32m---> <a href='file:///workspaces/VisaoComputacional/trabalho-final/src/deep-learning/eye_classifier.py?line=95'>96</a>\u001b[0m     \u001b[39mfor\u001b[39;00m i, (images, labels) \u001b[39min\u001b[39;00m \u001b[39menumerate\u001b[39m(train_loader):\n\u001b[1;32m     <a href='file:///workspaces/VisaoComputacional/trabalho-final/src/deep-learning/eye_classifier.py?line=97'>98</a>\u001b[0m         device \u001b[39m=\u001b[39m \u001b[39mself\u001b[39m\u001b[39m.\u001b[39m__device\n\u001b[1;32m     <a href='file:///workspaces/VisaoComputacional/trabalho-final/src/deep-learning/eye_classifier.py?line=98'>99</a>\u001b[0m         images \u001b[39m=\u001b[39m images\u001b[39m.\u001b[39mto(device)\n",
      "File \u001b[0;32m/usr/local/lib/python3.8/dist-packages/torch/utils/data/dataloader.py:521\u001b[0m, in \u001b[0;36m_BaseDataLoaderIter.__next__\u001b[0;34m(self)\u001b[0m\n\u001b[1;32m    <a href='file:///usr/local/lib/python3.8/dist-packages/torch/utils/data/dataloader.py?line=518'>519</a>\u001b[0m \u001b[39mif\u001b[39;00m \u001b[39mself\u001b[39m\u001b[39m.\u001b[39m_sampler_iter \u001b[39mis\u001b[39;00m \u001b[39mNone\u001b[39;00m:\n\u001b[1;32m    <a href='file:///usr/local/lib/python3.8/dist-packages/torch/utils/data/dataloader.py?line=519'>520</a>\u001b[0m     \u001b[39mself\u001b[39m\u001b[39m.\u001b[39m_reset()\n\u001b[0;32m--> <a href='file:///usr/local/lib/python3.8/dist-packages/torch/utils/data/dataloader.py?line=520'>521</a>\u001b[0m data \u001b[39m=\u001b[39m \u001b[39mself\u001b[39;49m\u001b[39m.\u001b[39;49m_next_data()\n\u001b[1;32m    <a href='file:///usr/local/lib/python3.8/dist-packages/torch/utils/data/dataloader.py?line=521'>522</a>\u001b[0m \u001b[39mself\u001b[39m\u001b[39m.\u001b[39m_num_yielded \u001b[39m+\u001b[39m\u001b[39m=\u001b[39m \u001b[39m1\u001b[39m\n\u001b[1;32m    <a href='file:///usr/local/lib/python3.8/dist-packages/torch/utils/data/dataloader.py?line=522'>523</a>\u001b[0m \u001b[39mif\u001b[39;00m \u001b[39mself\u001b[39m\u001b[39m.\u001b[39m_dataset_kind \u001b[39m==\u001b[39m _DatasetKind\u001b[39m.\u001b[39mIterable \u001b[39mand\u001b[39;00m \\\n\u001b[1;32m    <a href='file:///usr/local/lib/python3.8/dist-packages/torch/utils/data/dataloader.py?line=523'>524</a>\u001b[0m         \u001b[39mself\u001b[39m\u001b[39m.\u001b[39m_IterableDataset_len_called \u001b[39mis\u001b[39;00m \u001b[39mnot\u001b[39;00m \u001b[39mNone\u001b[39;00m \u001b[39mand\u001b[39;00m \\\n\u001b[1;32m    <a href='file:///usr/local/lib/python3.8/dist-packages/torch/utils/data/dataloader.py?line=524'>525</a>\u001b[0m         \u001b[39mself\u001b[39m\u001b[39m.\u001b[39m_num_yielded \u001b[39m>\u001b[39m \u001b[39mself\u001b[39m\u001b[39m.\u001b[39m_IterableDataset_len_called:\n",
      "File \u001b[0;32m/usr/local/lib/python3.8/dist-packages/torch/utils/data/dataloader.py:561\u001b[0m, in \u001b[0;36m_SingleProcessDataLoaderIter._next_data\u001b[0;34m(self)\u001b[0m\n\u001b[1;32m    <a href='file:///usr/local/lib/python3.8/dist-packages/torch/utils/data/dataloader.py?line=558'>559</a>\u001b[0m \u001b[39mdef\u001b[39;00m \u001b[39m_next_data\u001b[39m(\u001b[39mself\u001b[39m):\n\u001b[1;32m    <a href='file:///usr/local/lib/python3.8/dist-packages/torch/utils/data/dataloader.py?line=559'>560</a>\u001b[0m     index \u001b[39m=\u001b[39m \u001b[39mself\u001b[39m\u001b[39m.\u001b[39m_next_index()  \u001b[39m# may raise StopIteration\u001b[39;00m\n\u001b[0;32m--> <a href='file:///usr/local/lib/python3.8/dist-packages/torch/utils/data/dataloader.py?line=560'>561</a>\u001b[0m     data \u001b[39m=\u001b[39m \u001b[39mself\u001b[39;49m\u001b[39m.\u001b[39;49m_dataset_fetcher\u001b[39m.\u001b[39;49mfetch(index)  \u001b[39m# may raise StopIteration\u001b[39;00m\n\u001b[1;32m    <a href='file:///usr/local/lib/python3.8/dist-packages/torch/utils/data/dataloader.py?line=561'>562</a>\u001b[0m     \u001b[39mif\u001b[39;00m \u001b[39mself\u001b[39m\u001b[39m.\u001b[39m_pin_memory:\n\u001b[1;32m    <a href='file:///usr/local/lib/python3.8/dist-packages/torch/utils/data/dataloader.py?line=562'>563</a>\u001b[0m         data \u001b[39m=\u001b[39m _utils\u001b[39m.\u001b[39mpin_memory\u001b[39m.\u001b[39mpin_memory(data)\n",
      "File \u001b[0;32m/usr/local/lib/python3.8/dist-packages/torch/utils/data/_utils/fetch.py:49\u001b[0m, in \u001b[0;36m_MapDatasetFetcher.fetch\u001b[0;34m(self, possibly_batched_index)\u001b[0m\n\u001b[1;32m     <a href='file:///usr/local/lib/python3.8/dist-packages/torch/utils/data/_utils/fetch.py?line=46'>47</a>\u001b[0m \u001b[39mdef\u001b[39;00m \u001b[39mfetch\u001b[39m(\u001b[39mself\u001b[39m, possibly_batched_index):\n\u001b[1;32m     <a href='file:///usr/local/lib/python3.8/dist-packages/torch/utils/data/_utils/fetch.py?line=47'>48</a>\u001b[0m     \u001b[39mif\u001b[39;00m \u001b[39mself\u001b[39m\u001b[39m.\u001b[39mauto_collation:\n\u001b[0;32m---> <a href='file:///usr/local/lib/python3.8/dist-packages/torch/utils/data/_utils/fetch.py?line=48'>49</a>\u001b[0m         data \u001b[39m=\u001b[39m [\u001b[39mself\u001b[39m\u001b[39m.\u001b[39mdataset[idx] \u001b[39mfor\u001b[39;00m idx \u001b[39min\u001b[39;00m possibly_batched_index]\n\u001b[1;32m     <a href='file:///usr/local/lib/python3.8/dist-packages/torch/utils/data/_utils/fetch.py?line=49'>50</a>\u001b[0m     \u001b[39melse\u001b[39;00m:\n\u001b[1;32m     <a href='file:///usr/local/lib/python3.8/dist-packages/torch/utils/data/_utils/fetch.py?line=50'>51</a>\u001b[0m         data \u001b[39m=\u001b[39m \u001b[39mself\u001b[39m\u001b[39m.\u001b[39mdataset[possibly_batched_index]\n",
      "File \u001b[0;32m/usr/local/lib/python3.8/dist-packages/torch/utils/data/_utils/fetch.py:49\u001b[0m, in \u001b[0;36m<listcomp>\u001b[0;34m(.0)\u001b[0m\n\u001b[1;32m     <a href='file:///usr/local/lib/python3.8/dist-packages/torch/utils/data/_utils/fetch.py?line=46'>47</a>\u001b[0m \u001b[39mdef\u001b[39;00m \u001b[39mfetch\u001b[39m(\u001b[39mself\u001b[39m, possibly_batched_index):\n\u001b[1;32m     <a href='file:///usr/local/lib/python3.8/dist-packages/torch/utils/data/_utils/fetch.py?line=47'>48</a>\u001b[0m     \u001b[39mif\u001b[39;00m \u001b[39mself\u001b[39m\u001b[39m.\u001b[39mauto_collation:\n\u001b[0;32m---> <a href='file:///usr/local/lib/python3.8/dist-packages/torch/utils/data/_utils/fetch.py?line=48'>49</a>\u001b[0m         data \u001b[39m=\u001b[39m [\u001b[39mself\u001b[39;49m\u001b[39m.\u001b[39;49mdataset[idx] \u001b[39mfor\u001b[39;00m idx \u001b[39min\u001b[39;00m possibly_batched_index]\n\u001b[1;32m     <a href='file:///usr/local/lib/python3.8/dist-packages/torch/utils/data/_utils/fetch.py?line=49'>50</a>\u001b[0m     \u001b[39melse\u001b[39;00m:\n\u001b[1;32m     <a href='file:///usr/local/lib/python3.8/dist-packages/torch/utils/data/_utils/fetch.py?line=50'>51</a>\u001b[0m         data \u001b[39m=\u001b[39m \u001b[39mself\u001b[39m\u001b[39m.\u001b[39mdataset[possibly_batched_index]\n",
      "File \u001b[0;32m/workspaces/VisaoComputacional/trabalho-final/src/deep-learning/../utils/eye_dataset.py:51\u001b[0m, in \u001b[0;36mEyeImageDataset.__getitem__\u001b[0;34m(self, index)\u001b[0m\n\u001b[1;32m     <a href='file:///workspaces/VisaoComputacional/trabalho-final/src/deep-learning/../utils/eye_dataset.py?line=47'>48</a>\u001b[0m \u001b[39mdef\u001b[39;00m \u001b[39m__getitem__\u001b[39m(\u001b[39mself\u001b[39m, index: \u001b[39mint\u001b[39m) \u001b[39m-\u001b[39m\u001b[39m>\u001b[39m Tuple[Any, Any]:           \n\u001b[1;32m     <a href='file:///workspaces/VisaoComputacional/trabalho-final/src/deep-learning/../utils/eye_dataset.py?line=48'>49</a>\u001b[0m         img_file, target \u001b[39m=\u001b[39m \u001b[39mself\u001b[39m\u001b[39m.\u001b[39mfiles[index], \u001b[39mself\u001b[39m\u001b[39m.\u001b[39mtargets[index]\n\u001b[0;32m---> <a href='file:///workspaces/VisaoComputacional/trabalho-final/src/deep-learning/../utils/eye_dataset.py?line=50'>51</a>\u001b[0m         img \u001b[39m=\u001b[39m io\u001b[39m.\u001b[39;49mimread(img_file)\n\u001b[1;32m     <a href='file:///workspaces/VisaoComputacional/trabalho-final/src/deep-learning/../utils/eye_dataset.py?line=52'>53</a>\u001b[0m         \u001b[39m# doing this so that it is consistent with all other datasets\u001b[39;00m\n\u001b[1;32m     <a href='file:///workspaces/VisaoComputacional/trabalho-final/src/deep-learning/../utils/eye_dataset.py?line=53'>54</a>\u001b[0m         \u001b[39m# to return a PIL Image\u001b[39;00m\n\u001b[1;32m     <a href='file:///workspaces/VisaoComputacional/trabalho-final/src/deep-learning/../utils/eye_dataset.py?line=54'>55</a>\u001b[0m         img \u001b[39m=\u001b[39m Image\u001b[39m.\u001b[39mfromarray(img)\n",
      "File \u001b[0;32m/usr/local/lib/python3.8/dist-packages/skimage/io/_io.py:53\u001b[0m, in \u001b[0;36mimread\u001b[0;34m(fname, as_gray, plugin, **plugin_args)\u001b[0m\n\u001b[1;32m     <a href='file:///usr/local/lib/python3.8/dist-packages/skimage/io/_io.py?line=49'>50</a>\u001b[0m         plugin \u001b[39m=\u001b[39m \u001b[39m'\u001b[39m\u001b[39mtifffile\u001b[39m\u001b[39m'\u001b[39m\n\u001b[1;32m     <a href='file:///usr/local/lib/python3.8/dist-packages/skimage/io/_io.py?line=51'>52</a>\u001b[0m \u001b[39mwith\u001b[39;00m file_or_url_context(fname) \u001b[39mas\u001b[39;00m fname:\n\u001b[0;32m---> <a href='file:///usr/local/lib/python3.8/dist-packages/skimage/io/_io.py?line=52'>53</a>\u001b[0m     img \u001b[39m=\u001b[39m call_plugin(\u001b[39m'\u001b[39;49m\u001b[39mimread\u001b[39;49m\u001b[39m'\u001b[39;49m, fname, plugin\u001b[39m=\u001b[39;49mplugin, \u001b[39m*\u001b[39;49m\u001b[39m*\u001b[39;49mplugin_args)\n\u001b[1;32m     <a href='file:///usr/local/lib/python3.8/dist-packages/skimage/io/_io.py?line=54'>55</a>\u001b[0m \u001b[39mif\u001b[39;00m \u001b[39mnot\u001b[39;00m \u001b[39mhasattr\u001b[39m(img, \u001b[39m'\u001b[39m\u001b[39mndim\u001b[39m\u001b[39m'\u001b[39m):\n\u001b[1;32m     <a href='file:///usr/local/lib/python3.8/dist-packages/skimage/io/_io.py?line=55'>56</a>\u001b[0m     \u001b[39mreturn\u001b[39;00m img\n",
      "File \u001b[0;32m/usr/local/lib/python3.8/dist-packages/skimage/io/manage_plugins.py:207\u001b[0m, in \u001b[0;36mcall_plugin\u001b[0;34m(kind, *args, **kwargs)\u001b[0m\n\u001b[1;32m    <a href='file:///usr/local/lib/python3.8/dist-packages/skimage/io/manage_plugins.py?line=202'>203</a>\u001b[0m     \u001b[39mexcept\u001b[39;00m \u001b[39mIndexError\u001b[39;00m:\n\u001b[1;32m    <a href='file:///usr/local/lib/python3.8/dist-packages/skimage/io/manage_plugins.py?line=203'>204</a>\u001b[0m         \u001b[39mraise\u001b[39;00m \u001b[39mRuntimeError\u001b[39;00m(\u001b[39m'\u001b[39m\u001b[39mCould not find the plugin \u001b[39m\u001b[39m\"\u001b[39m\u001b[39m%s\u001b[39;00m\u001b[39m\"\u001b[39m\u001b[39m for \u001b[39m\u001b[39m%s\u001b[39;00m\u001b[39m.\u001b[39m\u001b[39m'\u001b[39m \u001b[39m%\u001b[39m\n\u001b[1;32m    <a href='file:///usr/local/lib/python3.8/dist-packages/skimage/io/manage_plugins.py?line=204'>205</a>\u001b[0m                            (plugin, kind))\n\u001b[0;32m--> <a href='file:///usr/local/lib/python3.8/dist-packages/skimage/io/manage_plugins.py?line=206'>207</a>\u001b[0m \u001b[39mreturn\u001b[39;00m func(\u001b[39m*\u001b[39;49margs, \u001b[39m*\u001b[39;49m\u001b[39m*\u001b[39;49mkwargs)\n",
      "File \u001b[0;32m/usr/local/lib/python3.8/dist-packages/skimage/io/_plugins/imageio_plugin.py:10\u001b[0m, in \u001b[0;36mimread\u001b[0;34m(*args, **kwargs)\u001b[0m\n\u001b[1;32m      <a href='file:///usr/local/lib/python3.8/dist-packages/skimage/io/_plugins/imageio_plugin.py?line=7'>8</a>\u001b[0m \u001b[39m@wraps\u001b[39m(imageio_imread)\n\u001b[1;32m      <a href='file:///usr/local/lib/python3.8/dist-packages/skimage/io/_plugins/imageio_plugin.py?line=8'>9</a>\u001b[0m \u001b[39mdef\u001b[39;00m \u001b[39mimread\u001b[39m(\u001b[39m*\u001b[39margs, \u001b[39m*\u001b[39m\u001b[39m*\u001b[39mkwargs):\n\u001b[0;32m---> <a href='file:///usr/local/lib/python3.8/dist-packages/skimage/io/_plugins/imageio_plugin.py?line=9'>10</a>\u001b[0m     \u001b[39mreturn\u001b[39;00m np\u001b[39m.\u001b[39masarray(imageio_imread(\u001b[39m*\u001b[39;49margs, \u001b[39m*\u001b[39;49m\u001b[39m*\u001b[39;49mkwargs))\n",
      "File \u001b[0;32m/usr/local/lib/python3.8/dist-packages/imageio/__init__.py:86\u001b[0m, in \u001b[0;36mimread\u001b[0;34m(uri, format, **kwargs)\u001b[0m\n\u001b[1;32m     <a href='file:///usr/local/lib/python3.8/dist-packages/imageio/__init__.py?line=64'>65</a>\u001b[0m \u001b[39mdef\u001b[39;00m \u001b[39mimread\u001b[39m(uri, \u001b[39mformat\u001b[39m\u001b[39m=\u001b[39m\u001b[39mNone\u001b[39;00m, \u001b[39m*\u001b[39m\u001b[39m*\u001b[39mkwargs):\n\u001b[1;32m     <a href='file:///usr/local/lib/python3.8/dist-packages/imageio/__init__.py?line=65'>66</a>\u001b[0m     \u001b[39m\"\"\"imread(uri, format=None, **kwargs)\u001b[39;00m\n\u001b[1;32m     <a href='file:///usr/local/lib/python3.8/dist-packages/imageio/__init__.py?line=66'>67</a>\u001b[0m \n\u001b[1;32m     <a href='file:///usr/local/lib/python3.8/dist-packages/imageio/__init__.py?line=67'>68</a>\u001b[0m \u001b[39m    Reads an image from the specified file. Returns a numpy array, which\u001b[39;00m\n\u001b[0;32m   (...)\u001b[0m\n\u001b[1;32m     <a href='file:///usr/local/lib/python3.8/dist-packages/imageio/__init__.py?line=83'>84</a>\u001b[0m \u001b[39m        to see what arguments are available for a particular format.\u001b[39;00m\n\u001b[1;32m     <a href='file:///usr/local/lib/python3.8/dist-packages/imageio/__init__.py?line=84'>85</a>\u001b[0m \u001b[39m    \"\"\"\u001b[39;00m\n\u001b[0;32m---> <a href='file:///usr/local/lib/python3.8/dist-packages/imageio/__init__.py?line=85'>86</a>\u001b[0m     \u001b[39mreturn\u001b[39;00m imread_v2(uri, \u001b[39mformat\u001b[39;49m\u001b[39m=\u001b[39;49m\u001b[39mformat\u001b[39;49m, \u001b[39m*\u001b[39;49m\u001b[39m*\u001b[39;49mkwargs)\n",
      "File \u001b[0;32m/usr/local/lib/python3.8/dist-packages/imageio/v2.py:160\u001b[0m, in \u001b[0;36mimread\u001b[0;34m(uri, format, **kwargs)\u001b[0m\n\u001b[1;32m    <a href='file:///usr/local/lib/python3.8/dist-packages/imageio/v2.py?line=154'>155</a>\u001b[0m     \u001b[39mraise\u001b[39;00m \u001b[39mTypeError\u001b[39;00m(\n\u001b[1;32m    <a href='file:///usr/local/lib/python3.8/dist-packages/imageio/v2.py?line=155'>156</a>\u001b[0m         \u001b[39m'\u001b[39m\u001b[39mInvalid keyword argument \u001b[39m\u001b[39m\"\u001b[39m\u001b[39mmode\u001b[39m\u001b[39m\"\u001b[39m\u001b[39m, \u001b[39m\u001b[39m'\u001b[39m \u001b[39m'\u001b[39m\u001b[39mperhaps you mean \u001b[39m\u001b[39m\"\u001b[39m\u001b[39mpilmode\u001b[39m\u001b[39m\"\u001b[39m\u001b[39m?\u001b[39m\u001b[39m'\u001b[39m\n\u001b[1;32m    <a href='file:///usr/local/lib/python3.8/dist-packages/imageio/v2.py?line=156'>157</a>\u001b[0m     )\n\u001b[1;32m    <a href='file:///usr/local/lib/python3.8/dist-packages/imageio/v2.py?line=158'>159</a>\u001b[0m \u001b[39mwith\u001b[39;00m imopen(uri, \u001b[39m\"\u001b[39m\u001b[39mri\u001b[39m\u001b[39m\"\u001b[39m, plugin\u001b[39m=\u001b[39m\u001b[39mformat\u001b[39m) \u001b[39mas\u001b[39;00m file:\n\u001b[0;32m--> <a href='file:///usr/local/lib/python3.8/dist-packages/imageio/v2.py?line=159'>160</a>\u001b[0m     \u001b[39mreturn\u001b[39;00m file\u001b[39m.\u001b[39;49mread(index\u001b[39m=\u001b[39;49m\u001b[39m0\u001b[39;49m, \u001b[39m*\u001b[39;49m\u001b[39m*\u001b[39;49mkwargs)\n",
      "File \u001b[0;32m/usr/local/lib/python3.8/dist-packages/imageio/core/legacy_plugin_wrapper.py:132\u001b[0m, in \u001b[0;36mLegacyPlugin.read\u001b[0;34m(self, index, **kwargs)\u001b[0m\n\u001b[1;32m    <a href='file:///usr/local/lib/python3.8/dist-packages/imageio/core/legacy_plugin_wrapper.py?line=128'>129</a>\u001b[0m     img \u001b[39m=\u001b[39m np\u001b[39m.\u001b[39mstack([im \u001b[39mfor\u001b[39;00m im \u001b[39min\u001b[39;00m \u001b[39mself\u001b[39m\u001b[39m.\u001b[39miter(\u001b[39m*\u001b[39m\u001b[39m*\u001b[39mkwargs)])\n\u001b[1;32m    <a href='file:///usr/local/lib/python3.8/dist-packages/imageio/core/legacy_plugin_wrapper.py?line=129'>130</a>\u001b[0m     \u001b[39mreturn\u001b[39;00m img\n\u001b[0;32m--> <a href='file:///usr/local/lib/python3.8/dist-packages/imageio/core/legacy_plugin_wrapper.py?line=131'>132</a>\u001b[0m reader \u001b[39m=\u001b[39m \u001b[39mself\u001b[39;49m\u001b[39m.\u001b[39;49mlegacy_get_reader(\u001b[39m*\u001b[39;49m\u001b[39m*\u001b[39;49mkwargs)\n\u001b[1;32m    <a href='file:///usr/local/lib/python3.8/dist-packages/imageio/core/legacy_plugin_wrapper.py?line=132'>133</a>\u001b[0m \u001b[39mreturn\u001b[39;00m reader\u001b[39m.\u001b[39mget_data(index)\n",
      "File \u001b[0;32m/usr/local/lib/python3.8/dist-packages/imageio/core/legacy_plugin_wrapper.py:104\u001b[0m, in \u001b[0;36mLegacyPlugin.legacy_get_reader\u001b[0;34m(self, **kwargs)\u001b[0m\n\u001b[1;32m    <a href='file:///usr/local/lib/python3.8/dist-packages/imageio/core/legacy_plugin_wrapper.py?line=100'>101</a>\u001b[0m     \u001b[39mreturn\u001b[39;00m \u001b[39mself\u001b[39m\u001b[39m.\u001b[39m_format\u001b[39m.\u001b[39mget_reader(\u001b[39mself\u001b[39m\u001b[39m.\u001b[39m_request)\n\u001b[1;32m    <a href='file:///usr/local/lib/python3.8/dist-packages/imageio/core/legacy_plugin_wrapper.py?line=102'>103</a>\u001b[0m \u001b[39mself\u001b[39m\u001b[39m.\u001b[39m_request\u001b[39m.\u001b[39mget_file()\u001b[39m.\u001b[39mseek(\u001b[39m0\u001b[39m)\n\u001b[0;32m--> <a href='file:///usr/local/lib/python3.8/dist-packages/imageio/core/legacy_plugin_wrapper.py?line=103'>104</a>\u001b[0m \u001b[39mreturn\u001b[39;00m \u001b[39mself\u001b[39;49m\u001b[39m.\u001b[39;49m_format\u001b[39m.\u001b[39;49mget_reader(\u001b[39mself\u001b[39;49m\u001b[39m.\u001b[39;49m_request)\n",
      "File \u001b[0;32m/usr/local/lib/python3.8/dist-packages/imageio/core/format.py:190\u001b[0m, in \u001b[0;36mFormat.get_reader\u001b[0;34m(self, request)\u001b[0m\n\u001b[1;32m    <a href='file:///usr/local/lib/python3.8/dist-packages/imageio/core/format.py?line=185'>186</a>\u001b[0m \u001b[39mif\u001b[39;00m select_mode \u001b[39mnot\u001b[39;00m \u001b[39min\u001b[39;00m \u001b[39mself\u001b[39m\u001b[39m.\u001b[39mmodes:\n\u001b[1;32m    <a href='file:///usr/local/lib/python3.8/dist-packages/imageio/core/format.py?line=186'>187</a>\u001b[0m     \u001b[39mraise\u001b[39;00m \u001b[39mRuntimeError\u001b[39;00m(\n\u001b[1;32m    <a href='file:///usr/local/lib/python3.8/dist-packages/imageio/core/format.py?line=187'>188</a>\u001b[0m         \u001b[39mf\u001b[39m\u001b[39m\"\u001b[39m\u001b[39mFormat \u001b[39m\u001b[39m{\u001b[39;00m\u001b[39mself\u001b[39m\u001b[39m.\u001b[39mname\u001b[39m}\u001b[39;00m\u001b[39m cannot read in \u001b[39m\u001b[39m{\u001b[39;00mrequest\u001b[39m.\u001b[39mmode\u001b[39m.\u001b[39mimage_mode\u001b[39m}\u001b[39;00m\u001b[39m mode\u001b[39m\u001b[39m\"\u001b[39m\n\u001b[1;32m    <a href='file:///usr/local/lib/python3.8/dist-packages/imageio/core/format.py?line=188'>189</a>\u001b[0m     )\n\u001b[0;32m--> <a href='file:///usr/local/lib/python3.8/dist-packages/imageio/core/format.py?line=189'>190</a>\u001b[0m \u001b[39mreturn\u001b[39;00m \u001b[39mself\u001b[39;49m\u001b[39m.\u001b[39;49mReader(\u001b[39mself\u001b[39;49m, request)\n",
      "File \u001b[0;32m/usr/local/lib/python3.8/dist-packages/imageio/core/format.py:281\u001b[0m, in \u001b[0;36mFormat._BaseReaderWriter.__init__\u001b[0;34m(self, format, request)\u001b[0m\n\u001b[1;32m    <a href='file:///usr/local/lib/python3.8/dist-packages/imageio/core/format.py?line=278'>279</a>\u001b[0m \u001b[39mself\u001b[39m\u001b[39m.\u001b[39m_request \u001b[39m=\u001b[39m request\n\u001b[1;32m    <a href='file:///usr/local/lib/python3.8/dist-packages/imageio/core/format.py?line=279'>280</a>\u001b[0m \u001b[39m# Open the reader/writer\u001b[39;00m\n\u001b[0;32m--> <a href='file:///usr/local/lib/python3.8/dist-packages/imageio/core/format.py?line=280'>281</a>\u001b[0m \u001b[39mself\u001b[39;49m\u001b[39m.\u001b[39;49m_open(\u001b[39m*\u001b[39;49m\u001b[39m*\u001b[39;49m\u001b[39mself\u001b[39;49m\u001b[39m.\u001b[39;49mrequest\u001b[39m.\u001b[39;49mkwargs\u001b[39m.\u001b[39;49mcopy())\n",
      "File \u001b[0;32m/usr/local/lib/python3.8/dist-packages/imageio/plugins/pillow_legacy.py:468\u001b[0m, in \u001b[0;36mJPEGFormat.Reader._open\u001b[0;34m(self, pilmode, as_gray, exifrotate)\u001b[0m\n\u001b[1;32m    <a href='file:///usr/local/lib/python3.8/dist-packages/imageio/plugins/pillow_legacy.py?line=466'>467</a>\u001b[0m \u001b[39mdef\u001b[39;00m \u001b[39m_open\u001b[39m(\u001b[39mself\u001b[39m, pilmode\u001b[39m=\u001b[39m\u001b[39mNone\u001b[39;00m, as_gray\u001b[39m=\u001b[39m\u001b[39mFalse\u001b[39;00m, exifrotate\u001b[39m=\u001b[39m\u001b[39mTrue\u001b[39;00m):\n\u001b[0;32m--> <a href='file:///usr/local/lib/python3.8/dist-packages/imageio/plugins/pillow_legacy.py?line=467'>468</a>\u001b[0m     \u001b[39mreturn\u001b[39;00m PillowFormat\u001b[39m.\u001b[39;49mReader\u001b[39m.\u001b[39;49m_open(\u001b[39mself\u001b[39;49m, pilmode\u001b[39m=\u001b[39;49mpilmode, as_gray\u001b[39m=\u001b[39;49mas_gray)\n",
      "File \u001b[0;32m/usr/local/lib/python3.8/dist-packages/imageio/plugins/pillow_legacy.py:300\u001b[0m, in \u001b[0;36mPillowFormat.Reader._open\u001b[0;34m(self, pilmode, as_gray)\u001b[0m\n\u001b[1;32m    <a href='file:///usr/local/lib/python3.8/dist-packages/imageio/plugins/pillow_legacy.py?line=297'>298</a>\u001b[0m \u001b[39mif\u001b[39;00m \u001b[39mself\u001b[39m\u001b[39m.\u001b[39m_im\u001b[39m.\u001b[39mpalette \u001b[39mand\u001b[39;00m \u001b[39mself\u001b[39m\u001b[39m.\u001b[39m_im\u001b[39m.\u001b[39mpalette\u001b[39m.\u001b[39mdirty:\n\u001b[1;32m    <a href='file:///usr/local/lib/python3.8/dist-packages/imageio/plugins/pillow_legacy.py?line=298'>299</a>\u001b[0m     \u001b[39mself\u001b[39m\u001b[39m.\u001b[39m_im\u001b[39m.\u001b[39mpalette\u001b[39m.\u001b[39mrawmode_saved \u001b[39m=\u001b[39m \u001b[39mself\u001b[39m\u001b[39m.\u001b[39m_im\u001b[39m.\u001b[39mpalette\u001b[39m.\u001b[39mrawmode\n\u001b[0;32m--> <a href='file:///usr/local/lib/python3.8/dist-packages/imageio/plugins/pillow_legacy.py?line=299'>300</a>\u001b[0m pil_try_read(\u001b[39mself\u001b[39;49m\u001b[39m.\u001b[39;49m_im)\n\u001b[1;32m    <a href='file:///usr/local/lib/python3.8/dist-packages/imageio/plugins/pillow_legacy.py?line=300'>301</a>\u001b[0m \u001b[39m# Store args\u001b[39;00m\n\u001b[1;32m    <a href='file:///usr/local/lib/python3.8/dist-packages/imageio/plugins/pillow_legacy.py?line=301'>302</a>\u001b[0m \u001b[39mself\u001b[39m\u001b[39m.\u001b[39m_kwargs \u001b[39m=\u001b[39m \u001b[39mdict\u001b[39m(\n\u001b[1;32m    <a href='file:///usr/local/lib/python3.8/dist-packages/imageio/plugins/pillow_legacy.py?line=302'>303</a>\u001b[0m     as_gray\u001b[39m=\u001b[39mas_gray, is_gray\u001b[39m=\u001b[39m_palette_is_grayscale(\u001b[39mself\u001b[39m\u001b[39m.\u001b[39m_im)\n\u001b[1;32m    <a href='file:///usr/local/lib/python3.8/dist-packages/imageio/plugins/pillow_legacy.py?line=303'>304</a>\u001b[0m )\n",
      "File \u001b[0;32m/usr/local/lib/python3.8/dist-packages/imageio/plugins/pillow_legacy.py:654\u001b[0m, in \u001b[0;36mpil_try_read\u001b[0;34m(im)\u001b[0m\n\u001b[1;32m    <a href='file:///usr/local/lib/python3.8/dist-packages/imageio/plugins/pillow_legacy.py?line=650'>651</a>\u001b[0m \u001b[39mdef\u001b[39;00m \u001b[39mpil_try_read\u001b[39m(im):\n\u001b[1;32m    <a href='file:///usr/local/lib/python3.8/dist-packages/imageio/plugins/pillow_legacy.py?line=651'>652</a>\u001b[0m     \u001b[39mtry\u001b[39;00m:\n\u001b[1;32m    <a href='file:///usr/local/lib/python3.8/dist-packages/imageio/plugins/pillow_legacy.py?line=652'>653</a>\u001b[0m         \u001b[39m# this will raise an IOError if the file is not readable\u001b[39;00m\n\u001b[0;32m--> <a href='file:///usr/local/lib/python3.8/dist-packages/imageio/plugins/pillow_legacy.py?line=653'>654</a>\u001b[0m         im\u001b[39m.\u001b[39;49mgetdata()[\u001b[39m0\u001b[39m]\n\u001b[1;32m    <a href='file:///usr/local/lib/python3.8/dist-packages/imageio/plugins/pillow_legacy.py?line=654'>655</a>\u001b[0m     \u001b[39mexcept\u001b[39;00m \u001b[39mIOError\u001b[39;00m \u001b[39mas\u001b[39;00m e:\n\u001b[1;32m    <a href='file:///usr/local/lib/python3.8/dist-packages/imageio/plugins/pillow_legacy.py?line=655'>656</a>\u001b[0m         site \u001b[39m=\u001b[39m \u001b[39m\"\u001b[39m\u001b[39mhttp://pillow.readthedocs.io/en/latest/installation.html\u001b[39m\u001b[39m\"\u001b[39m\n",
      "File \u001b[0;32m/usr/local/lib/python3.8/dist-packages/PIL/Image.py:1294\u001b[0m, in \u001b[0;36mImage.getdata\u001b[0;34m(self, band)\u001b[0m\n\u001b[1;32m   <a href='file:///usr/local/lib/python3.8/dist-packages/PIL/Image.py?line=1275'>1276</a>\u001b[0m \u001b[39mdef\u001b[39;00m \u001b[39mgetdata\u001b[39m(\u001b[39mself\u001b[39m, band\u001b[39m=\u001b[39m\u001b[39mNone\u001b[39;00m):\n\u001b[1;32m   <a href='file:///usr/local/lib/python3.8/dist-packages/PIL/Image.py?line=1276'>1277</a>\u001b[0m     \u001b[39m\"\"\"\u001b[39;00m\n\u001b[1;32m   <a href='file:///usr/local/lib/python3.8/dist-packages/PIL/Image.py?line=1277'>1278</a>\u001b[0m \u001b[39m    Returns the contents of this image as a sequence object\u001b[39;00m\n\u001b[1;32m   <a href='file:///usr/local/lib/python3.8/dist-packages/PIL/Image.py?line=1278'>1279</a>\u001b[0m \u001b[39m    containing pixel values.  The sequence object is flattened, so\u001b[39;00m\n\u001b[0;32m   (...)\u001b[0m\n\u001b[1;32m   <a href='file:///usr/local/lib/python3.8/dist-packages/PIL/Image.py?line=1290'>1291</a>\u001b[0m \u001b[39m    :returns: A sequence-like object.\u001b[39;00m\n\u001b[1;32m   <a href='file:///usr/local/lib/python3.8/dist-packages/PIL/Image.py?line=1291'>1292</a>\u001b[0m \u001b[39m    \"\"\"\u001b[39;00m\n\u001b[0;32m-> <a href='file:///usr/local/lib/python3.8/dist-packages/PIL/Image.py?line=1293'>1294</a>\u001b[0m     \u001b[39mself\u001b[39;49m\u001b[39m.\u001b[39;49mload()\n\u001b[1;32m   <a href='file:///usr/local/lib/python3.8/dist-packages/PIL/Image.py?line=1294'>1295</a>\u001b[0m     \u001b[39mif\u001b[39;00m band \u001b[39mis\u001b[39;00m \u001b[39mnot\u001b[39;00m \u001b[39mNone\u001b[39;00m:\n\u001b[1;32m   <a href='file:///usr/local/lib/python3.8/dist-packages/PIL/Image.py?line=1295'>1296</a>\u001b[0m         \u001b[39mreturn\u001b[39;00m \u001b[39mself\u001b[39m\u001b[39m.\u001b[39mim\u001b[39m.\u001b[39mgetband(band)\n",
      "File \u001b[0;32m/usr/local/lib/python3.8/dist-packages/PIL/ImageFile.py:253\u001b[0m, in \u001b[0;36mImageFile.load\u001b[0;34m(self)\u001b[0m\n\u001b[1;32m    <a href='file:///usr/local/lib/python3.8/dist-packages/PIL/ImageFile.py?line=246'>247</a>\u001b[0m         \u001b[39mraise\u001b[39;00m \u001b[39mOSError\u001b[39;00m(\n\u001b[1;32m    <a href='file:///usr/local/lib/python3.8/dist-packages/PIL/ImageFile.py?line=247'>248</a>\u001b[0m             \u001b[39m\"\u001b[39m\u001b[39mimage file is truncated \u001b[39m\u001b[39m\"\u001b[39m\n\u001b[1;32m    <a href='file:///usr/local/lib/python3.8/dist-packages/PIL/ImageFile.py?line=248'>249</a>\u001b[0m             \u001b[39mf\u001b[39m\u001b[39m\"\u001b[39m\u001b[39m(\u001b[39m\u001b[39m{\u001b[39;00m\u001b[39mlen\u001b[39m(b)\u001b[39m}\u001b[39;00m\u001b[39m bytes not processed)\u001b[39m\u001b[39m\"\u001b[39m\n\u001b[1;32m    <a href='file:///usr/local/lib/python3.8/dist-packages/PIL/ImageFile.py?line=249'>250</a>\u001b[0m         )\n\u001b[1;32m    <a href='file:///usr/local/lib/python3.8/dist-packages/PIL/ImageFile.py?line=251'>252</a>\u001b[0m b \u001b[39m=\u001b[39m b \u001b[39m+\u001b[39m s\n\u001b[0;32m--> <a href='file:///usr/local/lib/python3.8/dist-packages/PIL/ImageFile.py?line=252'>253</a>\u001b[0m n, err_code \u001b[39m=\u001b[39m decoder\u001b[39m.\u001b[39;49mdecode(b)\n\u001b[1;32m    <a href='file:///usr/local/lib/python3.8/dist-packages/PIL/ImageFile.py?line=253'>254</a>\u001b[0m \u001b[39mif\u001b[39;00m n \u001b[39m<\u001b[39m \u001b[39m0\u001b[39m:\n\u001b[1;32m    <a href='file:///usr/local/lib/python3.8/dist-packages/PIL/ImageFile.py?line=254'>255</a>\u001b[0m     \u001b[39mbreak\u001b[39;00m\n",
      "\u001b[0;31mKeyboardInterrupt\u001b[0m: "
     ]
    }
   ],
   "source": [
    "nn.train(ds, gpu=False)\n"
   ]
  },
  {
   "cell_type": "markdown",
   "metadata": {},
   "source": [
    "Testing the model"
   ]
  },
  {
   "cell_type": "code",
   "execution_count": 7,
   "metadata": {},
   "outputs": [
    {
     "name": "stdout",
     "output_type": "stream",
     "text": [
      "testing 1% [1641 files]\n",
      "accuracy: 66.16% [34742/52512]\n",
      "\t - Normal: 47.75% [3134/6564]\n",
      "\t - Diabetes: 30.83% [2024/6564]\n",
      "\t - Glaucoma: 72.81% [4779/6564]\n",
      "\t - Cataract: 93.22% [6119/6564]\n",
      "\t - AgeRelatedMacularDegeneration: 89.21% [5856/6564]\n",
      "\t - Hypertension: 79.83% [5240/6564]\n",
      "\t - PathologicalMyopia: 96.74% [6350/6564]\n",
      "\t - Other: 18.89% [1240/6564]\n"
     ]
    }
   ],
   "source": [
    "\n",
    "nn.test(ds, gpu = False)"
   ]
  }
 ],
 "metadata": {
  "interpreter": {
   "hash": "31f2aee4e71d21fbe5cf8b01ff0e069b9275f58929596ceb00d14d90e3e16cd6"
  },
  "kernelspec": {
   "display_name": "Python 3.8.10 64-bit",
   "language": "python",
   "name": "python3"
  },
  "language_info": {
   "codemirror_mode": {
    "name": "ipython",
    "version": 3
   },
   "file_extension": ".py",
   "mimetype": "text/x-python",
   "name": "python",
   "nbconvert_exporter": "python",
   "pygments_lexer": "ipython3",
   "version": "3.8.10"
  },
  "orig_nbformat": 4
 },
 "nbformat": 4,
 "nbformat_minor": 2
}
