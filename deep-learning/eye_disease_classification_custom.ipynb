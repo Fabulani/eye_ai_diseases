{
 "cells": [
  {
   "cell_type": "code",
   "execution_count": null,
   "metadata": {},
   "outputs": [],
   "source": [
    "import sys\n",
    "sys.path.insert(0, '..')\n",
    "\n",
    "import torch.nn as nn\n",
    "from torch.utils.data import DataLoader\n",
    "from utils.eye_dataset import *\n",
    "from eye_classifier import *\n",
    "import torchvision.transforms as transforms"
   ]
  },
  {
   "cell_type": "code",
   "execution_count": null,
   "metadata": {},
   "outputs": [],
   "source": [
    "base_dir = \"../../data\"\n",
    "image_dir_training = f\"{base_dir}/ODIR-5K/training\"\n",
    "image_dir_testing = f\"{base_dir}/ODIR-5K/testing\"\n",
    "csv_file = f'{base_dir}/ODIR-5K/data.csv'\n",
    "\n",
    "input_size = 512\n",
    "\n",
    "print ('reading input dataset')\n",
    "apply_transforms = transforms.Compose([\n",
    "    transforms.Resize(size=input_size),\n",
    "    transforms.CenterCrop(size=input_size),\n",
    "    transforms.ToTensor(),\n",
    "    transforms.Normalize([0.485, 0.456, 0.406], [0.229, 0.224, 0.225])\n",
    "])\n",
    "\n",
    "ds = EyeImageDataset(root=image_dir_training, data_info_csv_file=csv_file, transform=apply_transforms)\n",
    "train_loader = DataLoader(ds, batch_size=4, shuffle=True)\n"
   ]
  },
  {
   "cell_type": "markdown",
   "metadata": {},
   "source": [
    "Building the model"
   ]
  },
  {
   "cell_type": "code",
   "execution_count": null,
   "metadata": {},
   "outputs": [],
   "source": [
    "class CustomEyeClassifier(EyeClassifier):\n",
    "    def __init__(self, num_classes: int) -> None:\n",
    "        super(CustomEyeClassifier, self).__init__(model=[\n",
    "\n",
    "            (nn.Conv2d(in_channels=3, out_channels=6,\n",
    "                       kernel_size=(5, 5), stride=(2, 2), padding=(0, 0), dilation=(1, 1)),\n",
    "             TransferFunction.NotApplicable),\n",
    "\n",
    "            (nn.MaxPool2d(\n",
    "                kernel_size=(5, 5), stride=(2, 2), padding=(0, 0), dilation=(1, 1)),\n",
    "             TransferFunction.NotApplicable),\n",
    "\n",
    "            (nn.Dropout(),\n",
    "             TransferFunction.NotApplicable),\n",
    "\n",
    "            (nn.Conv2d(in_channels=6, out_channels=16,\n",
    "                       kernel_size=(5, 5), stride=(2, 2), padding=(0, 0), dilation=(1, 1)),\n",
    "             TransferFunction.NotApplicable),\n",
    "\n",
    "            (nn.MaxPool2d(\n",
    "                kernel_size=(5, 5), stride=(2, 2), padding=(0, 0), dilation=(1, 1)),\n",
    "             TransferFunction.NotApplicable),\n",
    "\n",
    "            (nn.Dropout(),\n",
    "             TransferFunction.NotApplicable),\n",
    "\n",
    "            (nn.Linear(in_features=13456, out_features=84),\n",
    "             TransferFunction.Relu),\n",
    "\n",
    "            (nn.Linear(in_features=84, out_features=42),\n",
    "             TransferFunction.Relu),\n",
    "\n",
    "            (nn.Linear(in_features=42, out_features=num_classes),\n",
    "             TransferFunction.NotApplicable),\n",
    "        ])\n",
    "\n",
    "nn = CustomEyeClassifier(num_classes=len(ds.classes))\n",
    "print(nn)"
   ]
  },
  {
   "cell_type": "markdown",
   "metadata": {},
   "source": [
    "Training the model"
   ]
  },
  {
   "cell_type": "code",
   "execution_count": null,
   "metadata": {},
   "outputs": [],
   "source": [
    "nn.train(ds)\n"
   ]
  },
  {
   "cell_type": "markdown",
   "metadata": {},
   "source": [
    "Testing the model"
   ]
  },
  {
   "cell_type": "code",
   "execution_count": null,
   "metadata": {},
   "outputs": [],
   "source": [
    "\n",
    "nn.test(ds)"
   ]
  }
 ],
 "metadata": {
  "interpreter": {
   "hash": "31f2aee4e71d21fbe5cf8b01ff0e069b9275f58929596ceb00d14d90e3e16cd6"
  },
  "kernelspec": {
   "display_name": "Python 3.8.10 64-bit",
   "language": "python",
   "name": "python3"
  },
  "language_info": {
   "codemirror_mode": {
    "name": "ipython",
    "version": 3
   },
   "file_extension": ".py",
   "mimetype": "text/x-python",
   "name": "python",
   "nbconvert_exporter": "python",
   "pygments_lexer": "ipython3",
   "version": "3.8.10"
  },
  "orig_nbformat": 4
 },
 "nbformat": 4,
 "nbformat_minor": 2
}
